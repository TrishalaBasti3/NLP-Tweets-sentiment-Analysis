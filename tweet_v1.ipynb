{
 "cells": [
  {
   "cell_type": "code",
   "execution_count": 1,
   "metadata": {
    "ExecuteTime": {
     "end_time": "2023-01-02T12:44:43.843311Z",
     "start_time": "2023-01-02T12:44:42.147233Z"
    }
   },
   "outputs": [],
   "source": [
    "import warnings\n",
    "warnings.filterwarnings(action='ignore')\n",
    "\n",
    "import json\n",
    "import numpy as np\n",
    "import pandas as pd\n",
    "from tqdm import tqdm\n",
    "import seaborn as sns\n",
    "import matplotlib.pyplot as plt"
   ]
  },
  {
   "cell_type": "code",
   "execution_count": 2,
   "metadata": {
    "ExecuteTime": {
     "end_time": "2023-01-02T12:44:44.999427Z",
     "start_time": "2023-01-02T12:44:43.845314Z"
    }
   },
   "outputs": [],
   "source": [
    "import regex as re\n",
    "from textblob import TextBlob\n",
    "import unidecode\n",
    "import itertools"
   ]
  },
  {
   "cell_type": "code",
   "execution_count": 3,
   "metadata": {
    "ExecuteTime": {
     "end_time": "2023-01-02T12:44:45.076255Z",
     "start_time": "2023-01-02T12:44:45.005634Z"
    }
   },
   "outputs": [],
   "source": [
    "# Download Wordnet through NLTK in python console:\n",
    "import nltk\n",
    "#nltk.download('wordnet')\n",
    "from nltk.stem import WordNetLemmatizer \n",
    "from nltk.tokenize import word_tokenize\n",
    "\n",
    "\n",
    "import nltk\n",
    "#nltk.download('stopwords')\n",
    "from nltk.corpus import stopwords\n",
    "\n",
    "import nltk\n",
    "#nltk.download('punkt')\n",
    "\n",
    "import string\n",
    "\n"
   ]
  },
  {
   "cell_type": "code",
   "execution_count": 4,
   "metadata": {
    "ExecuteTime": {
     "end_time": "2023-01-02T12:44:45.092183Z",
     "start_time": "2023-01-02T12:44:45.078301Z"
    }
   },
   "outputs": [],
   "source": [
    "\n",
    "json_file = 'C:\\OCR\\HTW_Project\\Tweets\\tweets.json'"
   ]
  },
  {
   "cell_type": "code",
   "execution_count": 5,
   "metadata": {
    "ExecuteTime": {
     "end_time": "2023-01-02T12:44:45.516707Z",
     "start_time": "2023-01-02T12:44:45.094179Z"
    },
    "scrolled": true
   },
   "outputs": [],
   "source": [
    "tweet = pd.read_json('C:\\\\CompletePython\\\\DataScience\\\\tweets\\\\tweets_json.json')"
   ]
  },
  {
   "cell_type": "code",
   "execution_count": 6,
   "metadata": {
    "ExecuteTime": {
     "end_time": "2023-01-02T12:44:45.564192Z",
     "start_time": "2023-01-02T12:44:45.519040Z"
    },
    "scrolled": false
   },
   "outputs": [
    {
     "data": {
      "text/html": [
       "<div>\n",
       "<style scoped>\n",
       "    .dataframe tbody tr th:only-of-type {\n",
       "        vertical-align: middle;\n",
       "    }\n",
       "\n",
       "    .dataframe tbody tr th {\n",
       "        vertical-align: top;\n",
       "    }\n",
       "\n",
       "    .dataframe thead th {\n",
       "        text-align: right;\n",
       "    }\n",
       "</style>\n",
       "<table border=\"1\" class=\"dataframe\">\n",
       "  <thead>\n",
       "    <tr style=\"text-align: right;\">\n",
       "      <th></th>\n",
       "      <th>source_created_at</th>\n",
       "      <th>author_id</th>\n",
       "      <th>text</th>\n",
       "      <th>source</th>\n",
       "      <th>language</th>\n",
       "      <th>longitude</th>\n",
       "      <th>latitude</th>\n",
       "      <th>id</th>\n",
       "      <th>labels</th>\n",
       "      <th>source_id</th>\n",
       "    </tr>\n",
       "  </thead>\n",
       "  <tbody>\n",
       "    <tr>\n",
       "      <th>0</th>\n",
       "      <td>2020-09-18 21:56:20.798</td>\n",
       "      <td>593731316</td>\n",
       "      <td>@DSisourath The Thameslink core between London...</td>\n",
       "      <td>sprinklr</td>\n",
       "      <td>en</td>\n",
       "      <td>-0.12574</td>\n",
       "      <td>51.50853</td>\n",
       "      <td>acd7673f-e621-5f1a-d662-df278964a6ea</td>\n",
       "      <td>{'topic': [{'tweet_id': 'acd7673f-e621-5f1a-d6...</td>\n",
       "      <td>NaN</td>\n",
       "    </tr>\n",
       "    <tr>\n",
       "      <th>1</th>\n",
       "      <td>2020-10-13 07:31:53.122</td>\n",
       "      <td>745583289520496640</td>\n",
       "      <td>@DulwichHistory Loving the complaint about peo...</td>\n",
       "      <td>sprinklr</td>\n",
       "      <td>en</td>\n",
       "      <td>-0.12574</td>\n",
       "      <td>51.50853</td>\n",
       "      <td>5b92aba8-4b05-6c63-8485-e9c870742137</td>\n",
       "      <td>{'topic': [{'tweet_id': '5b92aba8-4b05-6c63-84...</td>\n",
       "      <td>NaN</td>\n",
       "    </tr>\n",
       "    <tr>\n",
       "      <th>2</th>\n",
       "      <td>2020-10-26 19:27:24.695</td>\n",
       "      <td>303134761</td>\n",
       "      <td>@SW_Help .And yet you have no toilets on some ...</td>\n",
       "      <td>sprinklr</td>\n",
       "      <td>en</td>\n",
       "      <td>-0.12574</td>\n",
       "      <td>51.50853</td>\n",
       "      <td>0a799c07-8b76-17ba-b840-e538d51e832d</td>\n",
       "      <td>{'topic': [{'tweet_id': '0a799c07-8b76-17ba-b8...</td>\n",
       "      <td>NaN</td>\n",
       "    </tr>\n",
       "    <tr>\n",
       "      <th>3</th>\n",
       "      <td>2020-10-26 19:28:49.281</td>\n",
       "      <td>303134761</td>\n",
       "      <td>@SW_Help you have no toilets on some of your t...</td>\n",
       "      <td>sprinklr</td>\n",
       "      <td>en</td>\n",
       "      <td>-0.12574</td>\n",
       "      <td>51.50853</td>\n",
       "      <td>8b4d2a34-c4f0-0e19-4055-dfe4af5f0e14</td>\n",
       "      <td>{'topic': [{'tweet_id': '8b4d2a34-c4f0-0e19-40...</td>\n",
       "      <td>NaN</td>\n",
       "    </tr>\n",
       "    <tr>\n",
       "      <th>4</th>\n",
       "      <td>2020-09-28 11:59:41.212</td>\n",
       "      <td>56427671</td>\n",
       "      <td>@SpeedySticks007 @MrNeilJH @TLRailUK @christia...</td>\n",
       "      <td>sprinklr</td>\n",
       "      <td>en</td>\n",
       "      <td>-1.09125</td>\n",
       "      <td>50.79899</td>\n",
       "      <td>1fd08862-d8c7-0682-6b11-2603fba22d94</td>\n",
       "      <td>{'topic': [{'tweet_id': '1fd08862-d8c7-0682-6b...</td>\n",
       "      <td>NaN</td>\n",
       "    </tr>\n",
       "  </tbody>\n",
       "</table>\n",
       "</div>"
      ],
      "text/plain": [
       "        source_created_at           author_id  \\\n",
       "0 2020-09-18 21:56:20.798           593731316   \n",
       "1 2020-10-13 07:31:53.122  745583289520496640   \n",
       "2 2020-10-26 19:27:24.695           303134761   \n",
       "3 2020-10-26 19:28:49.281           303134761   \n",
       "4 2020-09-28 11:59:41.212            56427671   \n",
       "\n",
       "                                                text    source language  \\\n",
       "0  @DSisourath The Thameslink core between London...  sprinklr       en   \n",
       "1  @DulwichHistory Loving the complaint about peo...  sprinklr       en   \n",
       "2  @SW_Help .And yet you have no toilets on some ...  sprinklr       en   \n",
       "3  @SW_Help you have no toilets on some of your t...  sprinklr       en   \n",
       "4  @SpeedySticks007 @MrNeilJH @TLRailUK @christia...  sprinklr       en   \n",
       "\n",
       "   longitude  latitude                                    id  \\\n",
       "0   -0.12574  51.50853  acd7673f-e621-5f1a-d662-df278964a6ea   \n",
       "1   -0.12574  51.50853  5b92aba8-4b05-6c63-8485-e9c870742137   \n",
       "2   -0.12574  51.50853  0a799c07-8b76-17ba-b840-e538d51e832d   \n",
       "3   -0.12574  51.50853  8b4d2a34-c4f0-0e19-4055-dfe4af5f0e14   \n",
       "4   -1.09125  50.79899  1fd08862-d8c7-0682-6b11-2603fba22d94   \n",
       "\n",
       "                                              labels  source_id  \n",
       "0  {'topic': [{'tweet_id': 'acd7673f-e621-5f1a-d6...        NaN  \n",
       "1  {'topic': [{'tweet_id': '5b92aba8-4b05-6c63-84...        NaN  \n",
       "2  {'topic': [{'tweet_id': '0a799c07-8b76-17ba-b8...        NaN  \n",
       "3  {'topic': [{'tweet_id': '8b4d2a34-c4f0-0e19-40...        NaN  \n",
       "4  {'topic': [{'tweet_id': '1fd08862-d8c7-0682-6b...        NaN  "
      ]
     },
     "execution_count": 6,
     "metadata": {},
     "output_type": "execute_result"
    }
   ],
   "source": [
    "tweet.head()"
   ]
  },
  {
   "cell_type": "markdown",
   "metadata": {},
   "source": [
    "### Data Understanding"
   ]
  },
  {
   "cell_type": "code",
   "execution_count": 7,
   "metadata": {
    "ExecuteTime": {
     "end_time": "2023-01-02T12:44:45.580105Z",
     "start_time": "2023-01-02T12:44:45.567029Z"
    },
    "scrolled": true
   },
   "outputs": [
    {
     "name": "stdout",
     "output_type": "stream",
     "text": [
      "Index(['source_created_at', 'author_id', 'text', 'source', 'language',\n",
      "       'longitude', 'latitude', 'id', 'labels', 'source_id'],\n",
      "      dtype='object')\n"
     ]
    }
   ],
   "source": [
    "# CHECK ALL COLUMNS OF DATAFRAME:\n",
    "print(tweet.columns)"
   ]
  },
  {
   "cell_type": "code",
   "execution_count": 8,
   "metadata": {
    "ExecuteTime": {
     "end_time": "2023-01-02T12:44:45.600076Z",
     "start_time": "2023-01-02T12:44:45.582064Z"
    },
    "scrolled": true
   },
   "outputs": [
    {
     "name": "stdout",
     "output_type": "stream",
     "text": [
      "(16949, 10)\n"
     ]
    }
   ],
   "source": [
    "# SHAPE OF DATAFRAME:\n",
    "print(tweet.shape)"
   ]
  },
  {
   "cell_type": "code",
   "execution_count": 9,
   "metadata": {
    "ExecuteTime": {
     "end_time": "2023-01-02T12:44:45.642901Z",
     "start_time": "2023-01-02T12:44:45.602011Z"
    },
    "scrolled": true
   },
   "outputs": [
    {
     "name": "stdout",
     "output_type": "stream",
     "text": [
      "<class 'pandas.core.frame.DataFrame'>\n",
      "RangeIndex: 16949 entries, 0 to 16948\n",
      "Data columns (total 10 columns):\n",
      " #   Column             Non-Null Count  Dtype         \n",
      "---  ------             --------------  -----         \n",
      " 0   source_created_at  16949 non-null  datetime64[ns]\n",
      " 1   author_id          16949 non-null  object        \n",
      " 2   text               16949 non-null  object        \n",
      " 3   source             16949 non-null  object        \n",
      " 4   language           16949 non-null  object        \n",
      " 5   longitude          1425 non-null   float64       \n",
      " 6   latitude           1425 non-null   float64       \n",
      " 7   id                 16949 non-null  object        \n",
      " 8   labels             16949 non-null  object        \n",
      " 9   source_id          15548 non-null  float64       \n",
      "dtypes: datetime64[ns](1), float64(3), object(6)\n",
      "memory usage: 1.3+ MB\n",
      "None\n"
     ]
    }
   ],
   "source": [
    "# STATISTIC INFO OF ALL COLUMN's DATAFRAME:\n",
    "print(tweet.info())"
   ]
  },
  {
   "cell_type": "code",
   "execution_count": null,
   "metadata": {},
   "outputs": [],
   "source": []
  },
  {
   "cell_type": "markdown",
   "metadata": {},
   "source": [
    "# Extraction of topic and sentiment from label column"
   ]
  },
  {
   "cell_type": "code",
   "execution_count": 10,
   "metadata": {
    "ExecuteTime": {
     "end_time": "2023-01-02T12:44:45.658411Z",
     "start_time": "2023-01-02T12:44:45.644906Z"
    }
   },
   "outputs": [
    {
     "data": {
      "text/plain": [
       "0    {'topic': [{'tweet_id': 'acd7673f-e621-5f1a-d6...\n",
       "1    {'topic': [{'tweet_id': '5b92aba8-4b05-6c63-84...\n",
       "2    {'topic': [{'tweet_id': '0a799c07-8b76-17ba-b8...\n",
       "3    {'topic': [{'tweet_id': '8b4d2a34-c4f0-0e19-40...\n",
       "4    {'topic': [{'tweet_id': '1fd08862-d8c7-0682-6b...\n",
       "Name: labels, dtype: object"
      ]
     },
     "execution_count": 10,
     "metadata": {},
     "output_type": "execute_result"
    }
   ],
   "source": [
    "tweet_label = tweet.labels\n",
    "tweet_label.head()"
   ]
  },
  {
   "cell_type": "code",
   "execution_count": 11,
   "metadata": {
    "ExecuteTime": {
     "end_time": "2023-01-02T12:44:45.673440Z",
     "start_time": "2023-01-02T12:44:45.662405Z"
    },
    "scrolled": false
   },
   "outputs": [
    {
     "data": {
      "text/plain": [
       "{'topic': [{'tweet_id': 'acd7673f-e621-5f1a-d662-df278964a6ea',\n",
       "   'user_id': 'Z003XDCS',\n",
       "   'relevant': True,\n",
       "   'topic': 'service',\n",
       "   'ground_truth': True,\n",
       "   'id': '8655353b-cc71-1e89-95d5-1c4e6bf200e1'}],\n",
       " 'sentiment': [{'tweet_id': 'acd7673f-e621-5f1a-d662-df278964a6ea',\n",
       "   'user_id': 'Z003XDCS',\n",
       "   'sentiment': 'negative',\n",
       "   'ground_truth': True,\n",
       "   'id': '5ee4d218-65a9-70a0-0964-a5b00e594a41'}]}"
      ]
     },
     "execution_count": 11,
     "metadata": {},
     "output_type": "execute_result"
    }
   ],
   "source": [
    "#Check for lebel column for deeper look:\n",
    "tweet_label[0]"
   ]
  },
  {
   "cell_type": "markdown",
   "metadata": {
    "ExecuteTime": {
     "end_time": "2022-12-26T23:22:54.597006Z",
     "start_time": "2022-12-26T23:22:54.590030Z"
    }
   },
   "source": [
    "## Extracting the ground_truth, truth, relevance from topic and sentiment from the labels"
   ]
  },
  {
   "cell_type": "code",
   "execution_count": 12,
   "metadata": {
    "ExecuteTime": {
     "end_time": "2023-01-02T12:44:45.768119Z",
     "start_time": "2023-01-02T12:44:45.675365Z"
    }
   },
   "outputs": [
    {
     "name": "stdout",
     "output_type": "stream",
     "text": [
      "[True]\n"
     ]
    }
   ],
   "source": [
    "# Extracting the ground_truth from topic from the labels\n",
    "list_tp_gt = []\n",
    "for i in range(16949):\n",
    "    label_info = tweet_label[i]\n",
    "    for j in label_info:\n",
    "        if (j == \"topic\"):\n",
    "            label_val = label_info[j]\n",
    "            topic_gt = label_val[0]\n",
    "            topic_gt_value = topic_gt[\"ground_truth\"]\n",
    "            list_tp_gt.append(topic_gt_value)\n",
    "       \n",
    "unique_list_tp_gt = list(set(list_tp_gt))\n",
    "print(unique_list_tp_gt)"
   ]
  },
  {
   "cell_type": "code",
   "execution_count": 13,
   "metadata": {
    "ExecuteTime": {
     "end_time": "2023-01-02T12:44:45.846907Z",
     "start_time": "2023-01-02T12:44:45.770113Z"
    }
   },
   "outputs": [
    {
     "name": "stdout",
     "output_type": "stream",
     "text": [
      "[True]\n"
     ]
    }
   ],
   "source": [
    "# Extracting the revelant from topic from the labels\n",
    "list_rel = []\n",
    "for i in range(16949):\n",
    "    label_info = tweet_label[i]\n",
    "    for j in label_info:\n",
    "        if (j == \"topic\"):\n",
    "            label_val = label_info[j]\n",
    "            rel = label_val[0]\n",
    "            rel_value = topic_gt[\"relevant\"]\n",
    "            list_rel.append(topic_gt_value)\n",
    "\n",
    "unique_list_rel = list(set(list_rel))\n",
    "print(unique_list_rel)"
   ]
  },
  {
   "cell_type": "markdown",
   "metadata": {
    "ExecuteTime": {
     "end_time": "2022-12-26T22:22:52.027999Z",
     "start_time": "2022-12-26T22:22:52.010968Z"
    }
   },
   "source": [
    "### All the values in \"relevance\" and \"ground_truth\" is True. So ignoring."
   ]
  },
  {
   "cell_type": "markdown",
   "metadata": {},
   "source": [
    "# Extracting the sentiments from the labels"
   ]
  },
  {
   "cell_type": "code",
   "execution_count": 14,
   "metadata": {
    "ExecuteTime": {
     "end_time": "2023-01-02T12:44:45.940207Z",
     "start_time": "2023-01-02T12:44:45.848901Z"
    }
   },
   "outputs": [
    {
     "name": "stdout",
     "output_type": "stream",
     "text": [
      "['neutral', 'positive', 'negative']\n"
     ]
    }
   ],
   "source": [
    "# Extracting the sentiments from the labels\n",
    "list_senti = []\n",
    "for i in range(16949):\n",
    "    label_info = tweet_label[i]\n",
    "    for j in label_info:\n",
    "        if (j == \"sentiment\"):\n",
    "            label_val = label_info[j]\n",
    "            senti = label_val[0]\n",
    "            senti_value = senti[\"sentiment\"]\n",
    "            list_senti.append(senti_value)\n",
    "            \n",
    "unique_list_senti = list(set(list_senti))\n",
    "print(unique_list_senti)"
   ]
  },
  {
   "cell_type": "markdown",
   "metadata": {},
   "source": [
    "### From the sentiment table we can see that there are 3 types of sentiments from users: \n",
    "**neutral, postivie, negative**"
   ]
  },
  {
   "cell_type": "markdown",
   "metadata": {},
   "source": [
    "# Extracting the topics from topics in label columns"
   ]
  },
  {
   "cell_type": "code",
   "execution_count": 15,
   "metadata": {
    "ExecuteTime": {
     "end_time": "2023-01-02T12:44:46.019658Z",
     "start_time": "2023-01-02T12:44:45.941421Z"
    }
   },
   "outputs": [
    {
     "name": "stdout",
     "output_type": "stream",
     "text": [
      "['train_general', 'tickets/seat_reservations', 'seats', 'vandalism', 'covid', 'doors', 'roof', 'noise', 'handrails', 'announcements', 'service', 'tables', 'none', 'hvac', 'floor', 'station', 'brakes', 'wifi', 'air conditioning', 'windows', 'delays', 'plugs', 'toilets']\n"
     ]
    }
   ],
   "source": [
    "# Extracting the sentiments from the labels\n",
    "list_topic = []\n",
    "for i in range(16949):\n",
    "    label_info = tweet_label[i]\n",
    "    for j in label_info:\n",
    "        if (j == \"topic\"):\n",
    "            label_val = label_info[j]\n",
    "            label_topic = label_val[0]\n",
    "            label_topic_value = label_topic[\"topic\"]\n",
    "            list_topic.append(label_topic_value)\n",
    "        \n",
    "unique_list_topic = list(set(list_topic))\n",
    "print(unique_list_topic)"
   ]
  },
  {
   "cell_type": "markdown",
   "metadata": {},
   "source": [
    "# Data Preparation"
   ]
  },
  {
   "cell_type": "markdown",
   "metadata": {},
   "source": [
    "## Adding the topic and sentiment columns to the dataframe from the above extracted list from label columnm"
   ]
  },
  {
   "cell_type": "code",
   "execution_count": 16,
   "metadata": {
    "ExecuteTime": {
     "end_time": "2023-01-02T12:44:46.034954Z",
     "start_time": "2023-01-02T12:44:46.020956Z"
    }
   },
   "outputs": [],
   "source": [
    "#create and add the sentiment column to the tweet dataframe\n",
    "tweet['sentiment'] = list_senti\n",
    "#create and add the topic column to the tweet dataframe\n",
    "tweet['topic'] = list_topic"
   ]
  },
  {
   "cell_type": "code",
   "execution_count": 17,
   "metadata": {
    "ExecuteTime": {
     "end_time": "2023-01-02T12:44:46.066092Z",
     "start_time": "2023-01-02T12:44:46.035915Z"
    },
    "scrolled": false
   },
   "outputs": [
    {
     "data": {
      "text/html": [
       "<div>\n",
       "<style scoped>\n",
       "    .dataframe tbody tr th:only-of-type {\n",
       "        vertical-align: middle;\n",
       "    }\n",
       "\n",
       "    .dataframe tbody tr th {\n",
       "        vertical-align: top;\n",
       "    }\n",
       "\n",
       "    .dataframe thead th {\n",
       "        text-align: right;\n",
       "    }\n",
       "</style>\n",
       "<table border=\"1\" class=\"dataframe\">\n",
       "  <thead>\n",
       "    <tr style=\"text-align: right;\">\n",
       "      <th></th>\n",
       "      <th>source_created_at</th>\n",
       "      <th>author_id</th>\n",
       "      <th>text</th>\n",
       "      <th>source</th>\n",
       "      <th>language</th>\n",
       "      <th>longitude</th>\n",
       "      <th>latitude</th>\n",
       "      <th>id</th>\n",
       "      <th>labels</th>\n",
       "      <th>source_id</th>\n",
       "      <th>sentiment</th>\n",
       "      <th>topic</th>\n",
       "    </tr>\n",
       "  </thead>\n",
       "  <tbody>\n",
       "    <tr>\n",
       "      <th>0</th>\n",
       "      <td>2020-09-18 21:56:20.798</td>\n",
       "      <td>593731316</td>\n",
       "      <td>@DSisourath The Thameslink core between London...</td>\n",
       "      <td>sprinklr</td>\n",
       "      <td>en</td>\n",
       "      <td>-0.12574</td>\n",
       "      <td>51.50853</td>\n",
       "      <td>acd7673f-e621-5f1a-d662-df278964a6ea</td>\n",
       "      <td>{'topic': [{'tweet_id': 'acd7673f-e621-5f1a-d6...</td>\n",
       "      <td>NaN</td>\n",
       "      <td>negative</td>\n",
       "      <td>service</td>\n",
       "    </tr>\n",
       "    <tr>\n",
       "      <th>1</th>\n",
       "      <td>2020-10-13 07:31:53.122</td>\n",
       "      <td>745583289520496640</td>\n",
       "      <td>@DulwichHistory Loving the complaint about peo...</td>\n",
       "      <td>sprinklr</td>\n",
       "      <td>en</td>\n",
       "      <td>-0.12574</td>\n",
       "      <td>51.50853</td>\n",
       "      <td>5b92aba8-4b05-6c63-8485-e9c870742137</td>\n",
       "      <td>{'topic': [{'tweet_id': '5b92aba8-4b05-6c63-84...</td>\n",
       "      <td>NaN</td>\n",
       "      <td>negative</td>\n",
       "      <td>delays</td>\n",
       "    </tr>\n",
       "    <tr>\n",
       "      <th>2</th>\n",
       "      <td>2020-10-26 19:27:24.695</td>\n",
       "      <td>303134761</td>\n",
       "      <td>@SW_Help .And yet you have no toilets on some ...</td>\n",
       "      <td>sprinklr</td>\n",
       "      <td>en</td>\n",
       "      <td>-0.12574</td>\n",
       "      <td>51.50853</td>\n",
       "      <td>0a799c07-8b76-17ba-b840-e538d51e832d</td>\n",
       "      <td>{'topic': [{'tweet_id': '0a799c07-8b76-17ba-b8...</td>\n",
       "      <td>NaN</td>\n",
       "      <td>negative</td>\n",
       "      <td>toilets</td>\n",
       "    </tr>\n",
       "  </tbody>\n",
       "</table>\n",
       "</div>"
      ],
      "text/plain": [
       "        source_created_at           author_id  \\\n",
       "0 2020-09-18 21:56:20.798           593731316   \n",
       "1 2020-10-13 07:31:53.122  745583289520496640   \n",
       "2 2020-10-26 19:27:24.695           303134761   \n",
       "\n",
       "                                                text    source language  \\\n",
       "0  @DSisourath The Thameslink core between London...  sprinklr       en   \n",
       "1  @DulwichHistory Loving the complaint about peo...  sprinklr       en   \n",
       "2  @SW_Help .And yet you have no toilets on some ...  sprinklr       en   \n",
       "\n",
       "   longitude  latitude                                    id  \\\n",
       "0   -0.12574  51.50853  acd7673f-e621-5f1a-d662-df278964a6ea   \n",
       "1   -0.12574  51.50853  5b92aba8-4b05-6c63-8485-e9c870742137   \n",
       "2   -0.12574  51.50853  0a799c07-8b76-17ba-b840-e538d51e832d   \n",
       "\n",
       "                                              labels  source_id sentiment  \\\n",
       "0  {'topic': [{'tweet_id': 'acd7673f-e621-5f1a-d6...        NaN  negative   \n",
       "1  {'topic': [{'tweet_id': '5b92aba8-4b05-6c63-84...        NaN  negative   \n",
       "2  {'topic': [{'tweet_id': '0a799c07-8b76-17ba-b8...        NaN  negative   \n",
       "\n",
       "     topic  \n",
       "0  service  \n",
       "1   delays  \n",
       "2  toilets  "
      ]
     },
     "execution_count": 17,
     "metadata": {},
     "output_type": "execute_result"
    }
   ],
   "source": [
    "tweet.head(3)"
   ]
  },
  {
   "cell_type": "code",
   "execution_count": 18,
   "metadata": {
    "ExecuteTime": {
     "end_time": "2023-01-02T12:44:46.081280Z",
     "start_time": "2023-01-02T12:44:46.066992Z"
    }
   },
   "outputs": [
    {
     "data": {
      "text/plain": [
       "array(['en', 'en-GB'], dtype=object)"
      ]
     },
     "execution_count": 18,
     "metadata": {},
     "output_type": "execute_result"
    }
   ],
   "source": [
    "tweet['language'].unique()"
   ]
  },
  {
   "cell_type": "code",
   "execution_count": 19,
   "metadata": {
    "ExecuteTime": {
     "end_time": "2023-01-02T12:44:46.096974Z",
     "start_time": "2023-01-02T12:44:46.082950Z"
    }
   },
   "outputs": [
    {
     "data": {
      "text/plain": [
       "array(['sprinklr', 'brandwatch'], dtype=object)"
      ]
     },
     "execution_count": 19,
     "metadata": {},
     "output_type": "execute_result"
    }
   ],
   "source": [
    "tweet['source'].unique()"
   ]
  },
  {
   "cell_type": "code",
   "execution_count": 20,
   "metadata": {
    "ExecuteTime": {
     "end_time": "2023-01-02T12:44:46.127858Z",
     "start_time": "2023-01-02T12:44:46.098054Z"
    },
    "scrolled": false
   },
   "outputs": [
    {
     "data": {
      "text/plain": [
       "source_created_at     0.000000\n",
       "author_id             0.000000\n",
       "text                  0.000000\n",
       "source                0.000000\n",
       "language              0.000000\n",
       "longitude            91.592424\n",
       "latitude             91.592424\n",
       "id                    0.000000\n",
       "labels                0.000000\n",
       "source_id             8.265974\n",
       "sentiment             0.000000\n",
       "topic                 0.000000\n",
       "dtype: float64"
      ]
     },
     "execution_count": 20,
     "metadata": {},
     "output_type": "execute_result"
    }
   ],
   "source": [
    "#check for column having significant NaN/Missing values:\n",
    "percentage = (tweet.isnull().sum()/len(tweet)) * 100\n",
    "percentage.sort_values()\n",
    "percentage"
   ]
  },
  {
   "cell_type": "markdown",
   "metadata": {},
   "source": [
    "#### Notes:\n",
    "The longitude and lattitude columns have too many null values.\n"
   ]
  },
  {
   "cell_type": "markdown",
   "metadata": {},
   "source": [
    "### Handling the time data for year, month, date, weekend, hours"
   ]
  },
  {
   "cell_type": "code",
   "execution_count": 21,
   "metadata": {
    "ExecuteTime": {
     "end_time": "2023-01-02T12:44:46.159777Z",
     "start_time": "2023-01-02T12:44:46.128829Z"
    },
    "scrolled": true
   },
   "outputs": [],
   "source": [
    "# Handling the time data for Year, month, date and weekend\n",
    "tweet['year'] = tweet['source_created_at'].dt.year\n",
    "tweet['month'] = tweet['source_created_at'].dt.month\n",
    "tweet['day_of_week'] = tweet['source_created_at'].dt.dayofweek\n",
    "tweet['is_weekend'] = np.where(tweet['day_of_week'].isin([5,6]), 1, 0)\n",
    "tweet['hour'] = tweet['source_created_at'].dt.hour\n"
   ]
  },
  {
   "cell_type": "code",
   "execution_count": 22,
   "metadata": {
    "ExecuteTime": {
     "end_time": "2023-01-02T12:44:46.190695Z",
     "start_time": "2023-01-02T12:44:46.165129Z"
    }
   },
   "outputs": [],
   "source": [
    "# daypart function\n",
    "def daypart(hour):\n",
    "    if hour in [1,2,3,4,5]:\n",
    "        return \"dawn\"\n",
    "    elif hour in [6,7,8,9]:\n",
    "        return \"morning\"\n",
    "    elif hour in [10,11,12,13,14,15,16,17]:\n",
    "        return \"noon\"\n",
    "    elif hour in [18,19,20,21]:\n",
    "        return \"evening\"\n",
    "    else: return \"midnight\"\n",
    "    \n",
    "# utilize it along with apply method\n",
    "dayparts = tweet[\"hour\"].apply(daypart)\n",
    "tweet['dayparts'] = dayparts"
   ]
  },
  {
   "cell_type": "code",
   "execution_count": 23,
   "metadata": {
    "ExecuteTime": {
     "end_time": "2023-01-02T12:44:46.221615Z",
     "start_time": "2023-01-02T12:44:46.192657Z"
    },
    "scrolled": false
   },
   "outputs": [
    {
     "data": {
      "text/html": [
       "<div>\n",
       "<style scoped>\n",
       "    .dataframe tbody tr th:only-of-type {\n",
       "        vertical-align: middle;\n",
       "    }\n",
       "\n",
       "    .dataframe tbody tr th {\n",
       "        vertical-align: top;\n",
       "    }\n",
       "\n",
       "    .dataframe thead th {\n",
       "        text-align: right;\n",
       "    }\n",
       "</style>\n",
       "<table border=\"1\" class=\"dataframe\">\n",
       "  <thead>\n",
       "    <tr style=\"text-align: right;\">\n",
       "      <th></th>\n",
       "      <th>source_created_at</th>\n",
       "      <th>author_id</th>\n",
       "      <th>text</th>\n",
       "      <th>source</th>\n",
       "      <th>language</th>\n",
       "      <th>longitude</th>\n",
       "      <th>latitude</th>\n",
       "      <th>id</th>\n",
       "      <th>labels</th>\n",
       "      <th>source_id</th>\n",
       "      <th>sentiment</th>\n",
       "      <th>topic</th>\n",
       "      <th>year</th>\n",
       "      <th>month</th>\n",
       "      <th>day_of_week</th>\n",
       "      <th>is_weekend</th>\n",
       "      <th>hour</th>\n",
       "      <th>dayparts</th>\n",
       "    </tr>\n",
       "  </thead>\n",
       "  <tbody>\n",
       "    <tr>\n",
       "      <th>0</th>\n",
       "      <td>2020-09-18 21:56:20.798</td>\n",
       "      <td>593731316</td>\n",
       "      <td>@DSisourath The Thameslink core between London...</td>\n",
       "      <td>sprinklr</td>\n",
       "      <td>en</td>\n",
       "      <td>-0.12574</td>\n",
       "      <td>51.50853</td>\n",
       "      <td>acd7673f-e621-5f1a-d662-df278964a6ea</td>\n",
       "      <td>{'topic': [{'tweet_id': 'acd7673f-e621-5f1a-d6...</td>\n",
       "      <td>NaN</td>\n",
       "      <td>negative</td>\n",
       "      <td>service</td>\n",
       "      <td>2020</td>\n",
       "      <td>9</td>\n",
       "      <td>4</td>\n",
       "      <td>0</td>\n",
       "      <td>21</td>\n",
       "      <td>evening</td>\n",
       "    </tr>\n",
       "    <tr>\n",
       "      <th>1</th>\n",
       "      <td>2020-10-13 07:31:53.122</td>\n",
       "      <td>745583289520496640</td>\n",
       "      <td>@DulwichHistory Loving the complaint about peo...</td>\n",
       "      <td>sprinklr</td>\n",
       "      <td>en</td>\n",
       "      <td>-0.12574</td>\n",
       "      <td>51.50853</td>\n",
       "      <td>5b92aba8-4b05-6c63-8485-e9c870742137</td>\n",
       "      <td>{'topic': [{'tweet_id': '5b92aba8-4b05-6c63-84...</td>\n",
       "      <td>NaN</td>\n",
       "      <td>negative</td>\n",
       "      <td>delays</td>\n",
       "      <td>2020</td>\n",
       "      <td>10</td>\n",
       "      <td>1</td>\n",
       "      <td>0</td>\n",
       "      <td>7</td>\n",
       "      <td>morning</td>\n",
       "    </tr>\n",
       "    <tr>\n",
       "      <th>2</th>\n",
       "      <td>2020-10-26 19:27:24.695</td>\n",
       "      <td>303134761</td>\n",
       "      <td>@SW_Help .And yet you have no toilets on some ...</td>\n",
       "      <td>sprinklr</td>\n",
       "      <td>en</td>\n",
       "      <td>-0.12574</td>\n",
       "      <td>51.50853</td>\n",
       "      <td>0a799c07-8b76-17ba-b840-e538d51e832d</td>\n",
       "      <td>{'topic': [{'tweet_id': '0a799c07-8b76-17ba-b8...</td>\n",
       "      <td>NaN</td>\n",
       "      <td>negative</td>\n",
       "      <td>toilets</td>\n",
       "      <td>2020</td>\n",
       "      <td>10</td>\n",
       "      <td>0</td>\n",
       "      <td>0</td>\n",
       "      <td>19</td>\n",
       "      <td>evening</td>\n",
       "    </tr>\n",
       "    <tr>\n",
       "      <th>3</th>\n",
       "      <td>2020-10-26 19:28:49.281</td>\n",
       "      <td>303134761</td>\n",
       "      <td>@SW_Help you have no toilets on some of your t...</td>\n",
       "      <td>sprinklr</td>\n",
       "      <td>en</td>\n",
       "      <td>-0.12574</td>\n",
       "      <td>51.50853</td>\n",
       "      <td>8b4d2a34-c4f0-0e19-4055-dfe4af5f0e14</td>\n",
       "      <td>{'topic': [{'tweet_id': '8b4d2a34-c4f0-0e19-40...</td>\n",
       "      <td>NaN</td>\n",
       "      <td>negative</td>\n",
       "      <td>toilets</td>\n",
       "      <td>2020</td>\n",
       "      <td>10</td>\n",
       "      <td>0</td>\n",
       "      <td>0</td>\n",
       "      <td>19</td>\n",
       "      <td>evening</td>\n",
       "    </tr>\n",
       "    <tr>\n",
       "      <th>4</th>\n",
       "      <td>2020-09-28 11:59:41.212</td>\n",
       "      <td>56427671</td>\n",
       "      <td>@SpeedySticks007 @MrNeilJH @TLRailUK @christia...</td>\n",
       "      <td>sprinklr</td>\n",
       "      <td>en</td>\n",
       "      <td>-1.09125</td>\n",
       "      <td>50.79899</td>\n",
       "      <td>1fd08862-d8c7-0682-6b11-2603fba22d94</td>\n",
       "      <td>{'topic': [{'tweet_id': '1fd08862-d8c7-0682-6b...</td>\n",
       "      <td>NaN</td>\n",
       "      <td>neutral</td>\n",
       "      <td>seats</td>\n",
       "      <td>2020</td>\n",
       "      <td>9</td>\n",
       "      <td>0</td>\n",
       "      <td>0</td>\n",
       "      <td>11</td>\n",
       "      <td>noon</td>\n",
       "    </tr>\n",
       "  </tbody>\n",
       "</table>\n",
       "</div>"
      ],
      "text/plain": [
       "        source_created_at           author_id  \\\n",
       "0 2020-09-18 21:56:20.798           593731316   \n",
       "1 2020-10-13 07:31:53.122  745583289520496640   \n",
       "2 2020-10-26 19:27:24.695           303134761   \n",
       "3 2020-10-26 19:28:49.281           303134761   \n",
       "4 2020-09-28 11:59:41.212            56427671   \n",
       "\n",
       "                                                text    source language  \\\n",
       "0  @DSisourath The Thameslink core between London...  sprinklr       en   \n",
       "1  @DulwichHistory Loving the complaint about peo...  sprinklr       en   \n",
       "2  @SW_Help .And yet you have no toilets on some ...  sprinklr       en   \n",
       "3  @SW_Help you have no toilets on some of your t...  sprinklr       en   \n",
       "4  @SpeedySticks007 @MrNeilJH @TLRailUK @christia...  sprinklr       en   \n",
       "\n",
       "   longitude  latitude                                    id  \\\n",
       "0   -0.12574  51.50853  acd7673f-e621-5f1a-d662-df278964a6ea   \n",
       "1   -0.12574  51.50853  5b92aba8-4b05-6c63-8485-e9c870742137   \n",
       "2   -0.12574  51.50853  0a799c07-8b76-17ba-b840-e538d51e832d   \n",
       "3   -0.12574  51.50853  8b4d2a34-c4f0-0e19-4055-dfe4af5f0e14   \n",
       "4   -1.09125  50.79899  1fd08862-d8c7-0682-6b11-2603fba22d94   \n",
       "\n",
       "                                              labels  source_id sentiment  \\\n",
       "0  {'topic': [{'tweet_id': 'acd7673f-e621-5f1a-d6...        NaN  negative   \n",
       "1  {'topic': [{'tweet_id': '5b92aba8-4b05-6c63-84...        NaN  negative   \n",
       "2  {'topic': [{'tweet_id': '0a799c07-8b76-17ba-b8...        NaN  negative   \n",
       "3  {'topic': [{'tweet_id': '8b4d2a34-c4f0-0e19-40...        NaN  negative   \n",
       "4  {'topic': [{'tweet_id': '1fd08862-d8c7-0682-6b...        NaN   neutral   \n",
       "\n",
       "     topic  year  month  day_of_week  is_weekend  hour dayparts  \n",
       "0  service  2020      9            4           0    21  evening  \n",
       "1   delays  2020     10            1           0     7  morning  \n",
       "2  toilets  2020     10            0           0    19  evening  \n",
       "3  toilets  2020     10            0           0    19  evening  \n",
       "4    seats  2020      9            0           0    11     noon  "
      ]
     },
     "execution_count": 23,
     "metadata": {},
     "output_type": "execute_result"
    }
   ],
   "source": [
    "tweet.head()"
   ]
  },
  {
   "cell_type": "markdown",
   "metadata": {},
   "source": [
    "### Summary : Data Understanding and preparation\n",
    "\n",
    "* tweet data has 10 columns and 16949 rows\n",
    "* tweet data column 'longitude' and 'latitude' has the highest missing values\n",
    "* column labels has topic's : ['handrails', 'toilets', 'plugs', 'none', 'service', 'tickets/seat_reservations', 'noise', 'covid', 'vandalism', 'roof', 'floor', 'wifi', 'train_general', 'brakes', 'tables', 'station', 'announcements', 'delays', 'air conditioning', 'seats', 'doors', 'windows', 'hvac']\n",
    "* column labels has sentiments: ['negative', 'neutral', 'positive']\n",
    "* source column has 2 unique values : ['sprinklr', 'brandwatch']\n",
    "* text column has 2 unique languages: ['en', 'en-GB']\n",
    "* Date and time column has information on which year, month, day, time the tweets were made"
   ]
  },
  {
   "cell_type": "markdown",
   "metadata": {},
   "source": [
    "### Data Preperation and EDA"
   ]
  },
  {
   "cell_type": "code",
   "execution_count": 24,
   "metadata": {
    "ExecuteTime": {
     "end_time": "2023-01-02T12:44:46.424285Z",
     "start_time": "2023-01-02T12:44:46.223579Z"
    },
    "scrolled": true
   },
   "outputs": [
    {
     "data": {
      "image/png": "[encoded data removed]",
      "text/plain": [
       "<Figure size 432x288 with 1 Axes>"
      ]
     },
     "metadata": {},
     "output_type": "display_data"
    }
   ],
   "source": [
    "#check if the dataset is balanced:\n",
    "plt.style.use('seaborn-darkgrid')\n",
    "col = ['red', 'yellow', 'green']\n",
    "ax = tweet['sentiment'].value_counts(sort=False).plot(kind='barh', color = col)\n",
    "ax.set_xlabel('Number of Samples')\n",
    "ax.set_ylabel('Label')\n",
    "plt.tight_layout()"
   ]
  },
  {
   "cell_type": "markdown",
   "metadata": {},
   "source": [
    "# MIHIR"
   ]
  },
  {
   "cell_type": "code",
   "execution_count": 25,
   "metadata": {
    "ExecuteTime": {
     "end_time": "2023-01-02T12:44:46.612086Z",
     "start_time": "2023-01-02T12:44:46.425283Z"
    },
    "scrolled": false
   },
   "outputs": [
    {
     "data": {
      "image/png": "[encoded data removed]",
      "text/plain": [
       "<Figure size 432x288 with 1 Axes>"
      ]
     },
     "metadata": {},
     "output_type": "display_data"
    }
   ],
   "source": [
    "#check the frequency of dayparts:\n",
    "plt.style.use('seaborn-darkgrid')\n",
    "ax = tweet['dayparts'].value_counts().plot(kind='barh')\n",
    "ax.set_xlabel('Number of Samples')\n",
    "ax.set_ylabel('Label')\n",
    "plt.tight_layout()"
   ]
  },
  {
   "cell_type": "markdown",
   "metadata": {},
   "source": [
    "# MIHIR"
   ]
  },
  {
   "cell_type": "code",
   "execution_count": 26,
   "metadata": {
    "ExecuteTime": {
     "end_time": "2023-01-02T12:44:46.659958Z",
     "start_time": "2023-01-02T12:44:46.616074Z"
    },
    "scrolled": true
   },
   "outputs": [
    {
     "data": {
      "text/html": [
       "<div>\n",
       "<style scoped>\n",
       "    .dataframe tbody tr th:only-of-type {\n",
       "        vertical-align: middle;\n",
       "    }\n",
       "\n",
       "    .dataframe tbody tr th {\n",
       "        vertical-align: top;\n",
       "    }\n",
       "\n",
       "    .dataframe thead th {\n",
       "        text-align: right;\n",
       "    }\n",
       "</style>\n",
       "<table border=\"1\" class=\"dataframe\">\n",
       "  <thead>\n",
       "    <tr style=\"text-align: right;\">\n",
       "      <th></th>\n",
       "      <th></th>\n",
       "      <th>text</th>\n",
       "    </tr>\n",
       "    <tr>\n",
       "      <th>dayparts</th>\n",
       "      <th>sentiment</th>\n",
       "      <th></th>\n",
       "    </tr>\n",
       "  </thead>\n",
       "  <tbody>\n",
       "    <tr>\n",
       "      <th rowspan=\"2\" valign=\"top\">dawn</th>\n",
       "      <th>negative</th>\n",
       "      <td>380</td>\n",
       "    </tr>\n",
       "    <tr>\n",
       "      <th>neutral</th>\n",
       "      <td>215</td>\n",
       "    </tr>\n",
       "    <tr>\n",
       "      <th rowspan=\"3\" valign=\"top\">evening</th>\n",
       "      <th>negative</th>\n",
       "      <td>2457</td>\n",
       "    </tr>\n",
       "    <tr>\n",
       "      <th>neutral</th>\n",
       "      <td>1332</td>\n",
       "    </tr>\n",
       "    <tr>\n",
       "      <th>positive</th>\n",
       "      <td>40</td>\n",
       "    </tr>\n",
       "    <tr>\n",
       "      <th rowspan=\"3\" valign=\"top\">midnight</th>\n",
       "      <th>negative</th>\n",
       "      <td>651</td>\n",
       "    </tr>\n",
       "    <tr>\n",
       "      <th>neutral</th>\n",
       "      <td>377</td>\n",
       "    </tr>\n",
       "    <tr>\n",
       "      <th>positive</th>\n",
       "      <td>11</td>\n",
       "    </tr>\n",
       "    <tr>\n",
       "      <th rowspan=\"3\" valign=\"top\">morning</th>\n",
       "      <th>negative</th>\n",
       "      <td>3100</td>\n",
       "    </tr>\n",
       "    <tr>\n",
       "      <th>neutral</th>\n",
       "      <td>1647</td>\n",
       "    </tr>\n",
       "    <tr>\n",
       "      <th>positive</th>\n",
       "      <td>61</td>\n",
       "    </tr>\n",
       "    <tr>\n",
       "      <th rowspan=\"3\" valign=\"top\">noon</th>\n",
       "      <th>negative</th>\n",
       "      <td>4040</td>\n",
       "    </tr>\n",
       "    <tr>\n",
       "      <th>neutral</th>\n",
       "      <td>2508</td>\n",
       "    </tr>\n",
       "    <tr>\n",
       "      <th>positive</th>\n",
       "      <td>130</td>\n",
       "    </tr>\n",
       "  </tbody>\n",
       "</table>\n",
       "</div>"
      ],
      "text/plain": [
       "                    text\n",
       "dayparts sentiment      \n",
       "dawn     negative    380\n",
       "         neutral     215\n",
       "evening  negative   2457\n",
       "         neutral    1332\n",
       "         positive     40\n",
       "midnight negative    651\n",
       "         neutral     377\n",
       "         positive     11\n",
       "morning  negative   3100\n",
       "         neutral    1647\n",
       "         positive     61\n",
       "noon     negative   4040\n",
       "         neutral    2508\n",
       "         positive    130"
      ]
     },
     "execution_count": 26,
     "metadata": {},
     "output_type": "execute_result"
    }
   ],
   "source": [
    "#Check for the sentiments counts for daypart:\n",
    "tweet[['dayparts', 'sentiment', 'text']].groupby(['dayparts','sentiment']).count()\n"
   ]
  },
  {
   "cell_type": "code",
   "execution_count": 27,
   "metadata": {
    "ExecuteTime": {
     "end_time": "2023-01-02T12:44:46.690907Z",
     "start_time": "2023-01-02T12:44:46.662950Z"
    }
   },
   "outputs": [],
   "source": [
    "df = tweet[['dayparts', 'sentiment', 'text']].groupby(['dayparts','sentiment']).count()"
   ]
  },
  {
   "cell_type": "code",
   "execution_count": 28,
   "metadata": {
    "ExecuteTime": {
     "end_time": "2023-01-02T12:44:46.926937Z",
     "start_time": "2023-01-02T12:44:46.693875Z"
    },
    "scrolled": false
   },
   "outputs": [
    {
     "data": {
      "text/plain": [
       "<Figure size 1440x720 with 0 Axes>"
      ]
     },
     "metadata": {},
     "output_type": "display_data"
    },
    {
     "data": {
      "image/png": "[encoded data removed]",
      "text/plain": [
       "<Figure size 432x288 with 1 Axes>"
      ]
     },
     "metadata": {},
     "output_type": "display_data"
    }
   ],
   "source": [
    "plt.style.use('seaborn-darkgrid')\n",
    "plt.figure(figsize=(20,10))\n",
    "df[df.index.isin(['noon', 'morning', 'evening'], level=0)].plot(kind='bar')\n",
    "plt.tight_layout()"
   ]
  },
  {
   "cell_type": "markdown",
   "metadata": {},
   "source": [
    "# MIHIR"
   ]
  },
  {
   "cell_type": "code",
   "execution_count": 29,
   "metadata": {
    "ExecuteTime": {
     "end_time": "2023-01-02T12:44:47.224532Z",
     "start_time": "2023-01-02T12:44:46.933052Z"
    },
    "scrolled": true
   },
   "outputs": [
    {
     "data": {
      "image/png": "[encoded data removed]",
      "text/plain": [
       "<Figure size 432x288 with 1 Axes>"
      ]
     },
     "metadata": {},
     "output_type": "display_data"
    }
   ],
   "source": [
    "#check the frequency of topics in tweet:\n",
    "plt.style.use('seaborn-darkgrid')\n",
    "ax = tweet['topic'].value_counts().plot(kind='barh')\n",
    "ax.set_xlabel('Number of Samples')\n",
    "ax.set_ylabel('Label')\n",
    "plt.tight_layout()"
   ]
  },
  {
   "cell_type": "markdown",
   "metadata": {
    "ExecuteTime": {
     "end_time": "2022-12-28T08:29:35.314050Z",
     "start_time": "2022-12-28T08:29:35.307027Z"
    }
   },
   "source": [
    "# MIHIR"
   ]
  },
  {
   "cell_type": "code",
   "execution_count": 31,
   "metadata": {
    "ExecuteTime": {
     "end_time": "2023-01-02T12:45:49.732642Z",
     "start_time": "2023-01-02T12:45:49.691678Z"
    }
   },
   "outputs": [
    {
     "ename": "LookupError",
     "evalue": "\n**********************************************************************\n  Resource \u001b[93mstopwords\u001b[0m not found.\n  Please use the NLTK Downloader to obtain the resource:\n\n  \u001b[31m>>> import nltk\n  >>> nltk.download('stopwords')\n  \u001b[0m\n  For more information see: https://www.nltk.org/data.html\n\n  Attempted to load \u001b[93mcorpora/stopwords\u001b[0m\n\n  Searched in:\n    - 'C:\\\\Users\\\\Admin/nltk_data'\n    - 'C:\\\\Users\\\\Admin\\\\anaconda3\\\\nltk_data'\n    - 'C:\\\\Users\\\\Admin\\\\anaconda3\\\\share\\\\nltk_data'\n    - 'C:\\\\Users\\\\Admin\\\\anaconda3\\\\lib\\\\nltk_data'\n    - 'C:\\\\Users\\\\Admin\\\\AppData\\\\Roaming\\\\nltk_data'\n    - 'C:\\\\nltk_data'\n    - 'D:\\\\nltk_data'\n    - 'E:\\\\nltk_data'\n**********************************************************************\n",
     "output_type": "error",
     "traceback": [
      "\u001b[1;31m---------------------------------------------------------------------------\u001b[0m",
      "\u001b[1;31mLookupError\u001b[0m                               Traceback (most recent call last)",
      "\u001b[1;32m~\\anaconda3\\lib\\site-packages\\nltk\\corpus\\util.py\u001b[0m in \u001b[0;36m__load\u001b[1;34m(self)\u001b[0m\n\u001b[0;32m     82\u001b[0m                 \u001b[1;32mtry\u001b[0m\u001b[1;33m:\u001b[0m\u001b[1;33m\u001b[0m\u001b[1;33m\u001b[0m\u001b[0m\n\u001b[1;32m---> 83\u001b[1;33m                     \u001b[0mroot\u001b[0m \u001b[1;33m=\u001b[0m \u001b[0mnltk\u001b[0m\u001b[1;33m.\u001b[0m\u001b[0mdata\u001b[0m\u001b[1;33m.\u001b[0m\u001b[0mfind\u001b[0m\u001b[1;33m(\u001b[0m\u001b[1;34m\"{}/{}\"\u001b[0m\u001b[1;33m.\u001b[0m\u001b[0mformat\u001b[0m\u001b[1;33m(\u001b[0m\u001b[0mself\u001b[0m\u001b[1;33m.\u001b[0m\u001b[0msubdir\u001b[0m\u001b[1;33m,\u001b[0m \u001b[0mzip_name\u001b[0m\u001b[1;33m)\u001b[0m\u001b[1;33m)\u001b[0m\u001b[1;33m\u001b[0m\u001b[1;33m\u001b[0m\u001b[0m\n\u001b[0m\u001b[0;32m     84\u001b[0m                 \u001b[1;32mexcept\u001b[0m \u001b[0mLookupError\u001b[0m\u001b[1;33m:\u001b[0m\u001b[1;33m\u001b[0m\u001b[1;33m\u001b[0m\u001b[0m\n",
      "\u001b[1;32m~\\anaconda3\\lib\\site-packages\\nltk\\data.py\u001b[0m in \u001b[0;36mfind\u001b[1;34m(resource_name, paths)\u001b[0m\n\u001b[0;32m    582\u001b[0m     \u001b[0mresource_not_found\u001b[0m \u001b[1;33m=\u001b[0m \u001b[1;34m\"\\n%s\\n%s\\n%s\\n\"\u001b[0m \u001b[1;33m%\u001b[0m \u001b[1;33m(\u001b[0m\u001b[0msep\u001b[0m\u001b[1;33m,\u001b[0m \u001b[0mmsg\u001b[0m\u001b[1;33m,\u001b[0m \u001b[0msep\u001b[0m\u001b[1;33m)\u001b[0m\u001b[1;33m\u001b[0m\u001b[1;33m\u001b[0m\u001b[0m\n\u001b[1;32m--> 583\u001b[1;33m     \u001b[1;32mraise\u001b[0m \u001b[0mLookupError\u001b[0m\u001b[1;33m(\u001b[0m\u001b[0mresource_not_found\u001b[0m\u001b[1;33m)\u001b[0m\u001b[1;33m\u001b[0m\u001b[1;33m\u001b[0m\u001b[0m\n\u001b[0m\u001b[0;32m    584\u001b[0m \u001b[1;33m\u001b[0m\u001b[0m\n",
      "\u001b[1;31mLookupError\u001b[0m: \n**********************************************************************\n  Resource \u001b[93mstopwords\u001b[0m not found.\n  Please use the NLTK Downloader to obtain the resource:\n\n  \u001b[31m>>> import nltk\n  >>> nltk.download('stopwords')\n  \u001b[0m\n  For more information see: https://www.nltk.org/data.html\n\n  Attempted to load \u001b[93mcorpora/stopwords.zip/stopwords/\u001b[0m\n\n  Searched in:\n    - 'C:\\\\Users\\\\Admin/nltk_data'\n    - 'C:\\\\Users\\\\Admin\\\\anaconda3\\\\nltk_data'\n    - 'C:\\\\Users\\\\Admin\\\\anaconda3\\\\share\\\\nltk_data'\n    - 'C:\\\\Users\\\\Admin\\\\anaconda3\\\\lib\\\\nltk_data'\n    - 'C:\\\\Users\\\\Admin\\\\AppData\\\\Roaming\\\\nltk_data'\n    - 'C:\\\\nltk_data'\n    - 'D:\\\\nltk_data'\n    - 'E:\\\\nltk_data'\n**********************************************************************\n",
      "\nDuring handling of the above exception, another exception occurred:\n",
      "\u001b[1;31mLookupError\u001b[0m                               Traceback (most recent call last)",
      "\u001b[1;32m<ipython-input-31-63fcf296e5f3>\u001b[0m in \u001b[0;36m<module>\u001b[1;34m\u001b[0m\n\u001b[0;32m     19\u001b[0m \u001b[1;33m\u001b[0m\u001b[0m\n\u001b[0;32m     20\u001b[0m \u001b[1;33m\u001b[0m\u001b[0m\n\u001b[1;32m---> 21\u001b[1;33m \u001b[0mstop_words\u001b[0m \u001b[1;33m=\u001b[0m \u001b[0mset\u001b[0m\u001b[1;33m(\u001b[0m\u001b[0mstopwords\u001b[0m\u001b[1;33m.\u001b[0m\u001b[0mwords\u001b[0m\u001b[1;33m(\u001b[0m\u001b[1;34m'english'\u001b[0m\u001b[1;33m)\u001b[0m\u001b[1;33m)\u001b[0m\u001b[1;33m\u001b[0m\u001b[1;33m\u001b[0m\u001b[0m\n\u001b[0m\u001b[0;32m     22\u001b[0m \u001b[1;33m\u001b[0m\u001b[0m\n\u001b[0;32m     23\u001b[0m appos = {\n",
      "\u001b[1;32m~\\anaconda3\\lib\\site-packages\\nltk\\corpus\\util.py\u001b[0m in \u001b[0;36m__getattr__\u001b[1;34m(self, attr)\u001b[0m\n\u001b[0;32m    118\u001b[0m             \u001b[1;32mraise\u001b[0m \u001b[0mAttributeError\u001b[0m\u001b[1;33m(\u001b[0m\u001b[1;34m\"LazyCorpusLoader object has no attribute '__bases__'\"\u001b[0m\u001b[1;33m)\u001b[0m\u001b[1;33m\u001b[0m\u001b[1;33m\u001b[0m\u001b[0m\n\u001b[0;32m    119\u001b[0m \u001b[1;33m\u001b[0m\u001b[0m\n\u001b[1;32m--> 120\u001b[1;33m         \u001b[0mself\u001b[0m\u001b[1;33m.\u001b[0m\u001b[0m__load\u001b[0m\u001b[1;33m(\u001b[0m\u001b[1;33m)\u001b[0m\u001b[1;33m\u001b[0m\u001b[1;33m\u001b[0m\u001b[0m\n\u001b[0m\u001b[0;32m    121\u001b[0m         \u001b[1;31m# This looks circular, but its not, since __load() changes our\u001b[0m\u001b[1;33m\u001b[0m\u001b[1;33m\u001b[0m\u001b[1;33m\u001b[0m\u001b[0m\n\u001b[0;32m    122\u001b[0m         \u001b[1;31m# __class__ to something new:\u001b[0m\u001b[1;33m\u001b[0m\u001b[1;33m\u001b[0m\u001b[1;33m\u001b[0m\u001b[0m\n",
      "\u001b[1;32m~\\anaconda3\\lib\\site-packages\\nltk\\corpus\\util.py\u001b[0m in \u001b[0;36m__load\u001b[1;34m(self)\u001b[0m\n\u001b[0;32m     83\u001b[0m                     \u001b[0mroot\u001b[0m \u001b[1;33m=\u001b[0m \u001b[0mnltk\u001b[0m\u001b[1;33m.\u001b[0m\u001b[0mdata\u001b[0m\u001b[1;33m.\u001b[0m\u001b[0mfind\u001b[0m\u001b[1;33m(\u001b[0m\u001b[1;34m\"{}/{}\"\u001b[0m\u001b[1;33m.\u001b[0m\u001b[0mformat\u001b[0m\u001b[1;33m(\u001b[0m\u001b[0mself\u001b[0m\u001b[1;33m.\u001b[0m\u001b[0msubdir\u001b[0m\u001b[1;33m,\u001b[0m \u001b[0mzip_name\u001b[0m\u001b[1;33m)\u001b[0m\u001b[1;33m)\u001b[0m\u001b[1;33m\u001b[0m\u001b[1;33m\u001b[0m\u001b[0m\n\u001b[0;32m     84\u001b[0m                 \u001b[1;32mexcept\u001b[0m \u001b[0mLookupError\u001b[0m\u001b[1;33m:\u001b[0m\u001b[1;33m\u001b[0m\u001b[1;33m\u001b[0m\u001b[0m\n\u001b[1;32m---> 85\u001b[1;33m                     \u001b[1;32mraise\u001b[0m \u001b[0me\u001b[0m\u001b[1;33m\u001b[0m\u001b[1;33m\u001b[0m\u001b[0m\n\u001b[0m\u001b[0;32m     86\u001b[0m \u001b[1;33m\u001b[0m\u001b[0m\n\u001b[0;32m     87\u001b[0m         \u001b[1;31m# Load the corpus.\u001b[0m\u001b[1;33m\u001b[0m\u001b[1;33m\u001b[0m\u001b[1;33m\u001b[0m\u001b[0m\n",
      "\u001b[1;32m~\\anaconda3\\lib\\site-packages\\nltk\\corpus\\util.py\u001b[0m in \u001b[0;36m__load\u001b[1;34m(self)\u001b[0m\n\u001b[0;32m     78\u001b[0m         \u001b[1;32melse\u001b[0m\u001b[1;33m:\u001b[0m\u001b[1;33m\u001b[0m\u001b[1;33m\u001b[0m\u001b[0m\n\u001b[0;32m     79\u001b[0m             \u001b[1;32mtry\u001b[0m\u001b[1;33m:\u001b[0m\u001b[1;33m\u001b[0m\u001b[1;33m\u001b[0m\u001b[0m\n\u001b[1;32m---> 80\u001b[1;33m                 \u001b[0mroot\u001b[0m \u001b[1;33m=\u001b[0m \u001b[0mnltk\u001b[0m\u001b[1;33m.\u001b[0m\u001b[0mdata\u001b[0m\u001b[1;33m.\u001b[0m\u001b[0mfind\u001b[0m\u001b[1;33m(\u001b[0m\u001b[1;34m\"{}/{}\"\u001b[0m\u001b[1;33m.\u001b[0m\u001b[0mformat\u001b[0m\u001b[1;33m(\u001b[0m\u001b[0mself\u001b[0m\u001b[1;33m.\u001b[0m\u001b[0msubdir\u001b[0m\u001b[1;33m,\u001b[0m \u001b[0mself\u001b[0m\u001b[1;33m.\u001b[0m\u001b[0m__name\u001b[0m\u001b[1;33m)\u001b[0m\u001b[1;33m)\u001b[0m\u001b[1;33m\u001b[0m\u001b[1;33m\u001b[0m\u001b[0m\n\u001b[0m\u001b[0;32m     81\u001b[0m             \u001b[1;32mexcept\u001b[0m \u001b[0mLookupError\u001b[0m \u001b[1;32mas\u001b[0m \u001b[0me\u001b[0m\u001b[1;33m:\u001b[0m\u001b[1;33m\u001b[0m\u001b[1;33m\u001b[0m\u001b[0m\n\u001b[0;32m     82\u001b[0m                 \u001b[1;32mtry\u001b[0m\u001b[1;33m:\u001b[0m\u001b[1;33m\u001b[0m\u001b[1;33m\u001b[0m\u001b[0m\n",
      "\u001b[1;32m~\\anaconda3\\lib\\site-packages\\nltk\\data.py\u001b[0m in \u001b[0;36mfind\u001b[1;34m(resource_name, paths)\u001b[0m\n\u001b[0;32m    581\u001b[0m     \u001b[0msep\u001b[0m \u001b[1;33m=\u001b[0m \u001b[1;34m\"*\"\u001b[0m \u001b[1;33m*\u001b[0m \u001b[1;36m70\u001b[0m\u001b[1;33m\u001b[0m\u001b[1;33m\u001b[0m\u001b[0m\n\u001b[0;32m    582\u001b[0m     \u001b[0mresource_not_found\u001b[0m \u001b[1;33m=\u001b[0m \u001b[1;34m\"\\n%s\\n%s\\n%s\\n\"\u001b[0m \u001b[1;33m%\u001b[0m \u001b[1;33m(\u001b[0m\u001b[0msep\u001b[0m\u001b[1;33m,\u001b[0m \u001b[0mmsg\u001b[0m\u001b[1;33m,\u001b[0m \u001b[0msep\u001b[0m\u001b[1;33m)\u001b[0m\u001b[1;33m\u001b[0m\u001b[1;33m\u001b[0m\u001b[0m\n\u001b[1;32m--> 583\u001b[1;33m     \u001b[1;32mraise\u001b[0m \u001b[0mLookupError\u001b[0m\u001b[1;33m(\u001b[0m\u001b[0mresource_not_found\u001b[0m\u001b[1;33m)\u001b[0m\u001b[1;33m\u001b[0m\u001b[1;33m\u001b[0m\u001b[0m\n\u001b[0m\u001b[0;32m    584\u001b[0m \u001b[1;33m\u001b[0m\u001b[0m\n\u001b[0;32m    585\u001b[0m \u001b[1;33m\u001b[0m\u001b[0m\n",
      "\u001b[1;31mLookupError\u001b[0m: \n**********************************************************************\n  Resource \u001b[93mstopwords\u001b[0m not found.\n  Please use the NLTK Downloader to obtain the resource:\n\n  \u001b[31m>>> import nltk\n  >>> nltk.download('stopwords')\n  \u001b[0m\n  For more information see: https://www.nltk.org/data.html\n\n  Attempted to load \u001b[93mcorpora/stopwords\u001b[0m\n\n  Searched in:\n    - 'C:\\\\Users\\\\Admin/nltk_data'\n    - 'C:\\\\Users\\\\Admin\\\\anaconda3\\\\nltk_data'\n    - 'C:\\\\Users\\\\Admin\\\\anaconda3\\\\share\\\\nltk_data'\n    - 'C:\\\\Users\\\\Admin\\\\anaconda3\\\\lib\\\\nltk_data'\n    - 'C:\\\\Users\\\\Admin\\\\AppData\\\\Roaming\\\\nltk_data'\n    - 'C:\\\\nltk_data'\n    - 'D:\\\\nltk_data'\n    - 'E:\\\\nltk_data'\n**********************************************************************\n"
     ]
    }
   ],
   "source": [
    "#Clean tweets:\n",
    "def clean_tweet(tweet): \n",
    "    ''' \n",
    "    Utility function to clean tweet text by removing special characters \n",
    "    using simple regex statements. \n",
    "    '''\n",
    "    tweet = str(tweet)\n",
    "    cleanTweet =  ' '.join(re.sub(\"(@[A-Za-z0-9]+)|([^0-9A-Za-z \\t])|(\\w+:\\/\\/\\S+)\", \" \", tweet).split())\n",
    "    return cleanTweet\n",
    "\n",
    "#Remove web links:\n",
    "def strip_links(text):\n",
    "    text = str(text)\n",
    "    link_regex    = re.compile('((https?):((//)|(\\\\\\\\))+([\\w\\d:#@%/;$()~_?\\+-=\\\\\\.&](#!)?)*)', re.DOTALL)\n",
    "    links         = re.findall(link_regex, text)\n",
    "    for link in links:\n",
    "        text = text.replace(link[0], '')    \n",
    "    return text\n",
    "\n",
    "\n",
    "stop_words = set(stopwords.words('english'))\n",
    "\n",
    "appos = {\n",
    "\"aren't\" : \"are not\",\n",
    "\"can't\" : \"cannot\",\n",
    "\"couldn't\" : \"could not\",\n",
    "\"didn't\" : \"did not\",\n",
    "\"doesn't\" : \"does not\",\n",
    "\"don't\" : \"do not\",\n",
    "\"hadn't\" : \"had not\",\n",
    "\"hasn't\" : \"has not\",\n",
    "\"haven't\" : \"have not\",\n",
    "\"he'd\" : \"he would\",\n",
    "\"he'll\" : \"he will\",\n",
    "\"he's\" : \"he is\",\n",
    "\"i'd\" : \"i would\",\n",
    "\"i'd\" : \"i had\",\n",
    "\"i'll\" : \"i will\",\n",
    "\"i'm\" : \"i am\",\n",
    "\"isn't\" : \"is not\",\n",
    "\"it's\" : \"it is\",\n",
    "\"it'll\":\"it will\",\n",
    "\"i've\" : \"i have\",\n",
    "\"let's\" : \"let us\",\n",
    "\"mightn't\" : \"might not\",\n",
    "\"mustn't\" : \"must not\",\n",
    "\"shan't\" : \"shall not\",\n",
    "\"she'd\" : \"she would\",\n",
    "\"she'll\" : \"she will\",\n",
    "\"she's\" : \"she is\",\n",
    "\"shouldn't\" : \"should not\",\n",
    "\"that's\" : \"that is\",\n",
    "\"there's\" : \"there is\",\n",
    "\"they'd\" : \"they would\",\n",
    "\"they'll\" : \"they will\",\n",
    "\"they're\" : \"they are\",\n",
    "\"they've\" : \"they have\",\n",
    "\"we'd\" : \"we would\",\n",
    "\"we're\" : \"we are\",\n",
    "\"weren't\" : \"were not\",\n",
    "\"we've\" : \"we have\",\n",
    "\"what'll\" : \"what will\",\n",
    "\"what're\" : \"what are\",\n",
    "\"what's\" : \"what is\",\n",
    "\"what've\" : \"what have\",\n",
    "\"where's\" : \"where is\",\n",
    "\"who'd\" : \"who would\",\n",
    "\"who'll\" : \"who will\",\n",
    "\"who're\" : \"who are\",\n",
    "\"who's\" : \"who is\",\n",
    "\"who've\" : \"who have\",\n",
    "\"won't\" : \"will not\",\n",
    "\"wouldn't\" : \"would not\",\n",
    "\"you'd\" : \"you would\",\n",
    "\"you'll\" : \"you will\",\n",
    "\"you're\" : \"you are\",\n",
    "\"you've\" : \"you have\",\n",
    "\"'re\": \" are\",\n",
    "\"wasn't\": \"was not\",\n",
    "\"we'll\":\" will\",\n",
    "\"didn't\": \"did not\"\n",
    "}\n",
    "\n",
    "\n",
    "\n",
    "# Load default stop words and add a few more specific to my text.\n",
    "stopwordsList = stopwords.words('english')\n",
    "stopwordsList.append('some')\n",
    "stopwordsList.append('like')\n",
    "stopwordsList.append('others')\n",
    "stopwordsList.append('say')\n",
    "stopwordsList.append('help')\n",
    "stopwordsList.append('_help')\n",
    "stopwordsList.append('train')\n",
    "stopwordsList.append('would')\n",
    "stopwordsList.append('please')\n",
    "stopwordsList.append('use')\n",
    "stopwordsList.append('love')\n",
    "stopwordsList.append('go')\n",
    "stopwordsList.append('see')\n",
    "stopwordsList.append('seem')\n",
    "stopwordsList.append('run')\n",
    "stopwordsList.append('come')\n",
    "stopwordsList.append('city')\n",
    "stopwordsList.append('happen')\n",
    "stopwordsList.append('great')\n",
    "stopwordsList.append('think')\n",
    "stopwordsList.append('say')\n",
    "stopwordsList.append('train')\n",
    "stopwordsList.append('would')\n",
    "stopwordsList.append('let')\n",
    "stopwordsList.append('people')\n",
    "stopwordsList.append('one')\n",
    "stopwordsList.append('tell')\n",
    "stopwordsList.append('yet')\n",
    "stopwordsList.append('yes')\n",
    "stopwordsList.append('next')\n",
    "stopwordsList.append('even')\n",
    "stopwordsList.append('week')\n",
    "stopwordsList.append('go')\n"
   ]
  },
  {
   "cell_type": "code",
   "execution_count": null,
   "metadata": {
    "ExecuteTime": {
     "end_time": "2023-01-02T12:44:47.697522Z",
     "start_time": "2023-01-02T12:44:42.220Z"
    }
   },
   "outputs": [],
   "source": [
    "def text_preprocess(text):\n",
    "    lemma = nltk.wordnet.WordNetLemmatizer()\n",
    "    \n",
    "    text = str(text)\n",
    "    \n",
    "    #removing mentions and hashtags\n",
    "    text = ' '.join(re.sub(\"(@[A-Za-z0-9]+)|(#[A-Za-z0-9]+)\", \" \", text).split())\n",
    "    \n",
    "    #remove http links from tweets \n",
    "    link_regex    = re.compile('((https?):((//)|(\\\\\\\\))+([\\w\\d:#@%/;$()~_?\\+-=\\\\\\.&](#!)?)*)', re.DOTALL)\n",
    "    links         = re.findall(link_regex, text)\n",
    "    for link in links:\n",
    "        text = text.replace(link[0], '')  \n",
    "    \n",
    "    text_pattern = re.sub(\"`\", \"'\", text)\n",
    "    \n",
    "    #fix misspelled words    \n",
    "    text = ''.join(''.join(s)[:2] for _, s in itertools.groupby(text))\n",
    "    \n",
    "    \n",
    "   # print(text_pattern)\n",
    "    \n",
    "    #Convert to lower and negation handling\n",
    "    \n",
    "    text_lr = text_pattern.lower()\n",
    "    \n",
    "   # print(text_lr)\n",
    "    \n",
    "    words = text_lr.split()\n",
    "    text_neg = [appos[word] if word in appos else word for word in words]\n",
    "    text_neg = \" \".join(text_neg) \n",
    "   # print(text_neg)\n",
    "    \n",
    "    #remove stopwords\n",
    "    tokens = word_tokenize(text_neg)\n",
    "    text_nsw = [i for i in tokens if i not in stopwordsList]\n",
    "    text_nsw = \" \".join(text_nsw) \n",
    "        \n",
    "    \n",
    "    #remove tags\n",
    "    \n",
    "    text_tags=re.sub(\"&lt;/?.*?&gt;\",\" &lt;&gt; \",text_nsw)\n",
    "\n",
    "    # remove special characters and digits\n",
    "    text_alpha=re.sub(\"(\\\\d|\\\\W)+\",\" \",text_tags)\n",
    "    \n",
    "    #Remove accented characters\n",
    "    text = unidecode.unidecode(text_alpha)\n",
    "    sent = TextBlob(text)\n",
    "    tag_dict = {\"J\": 'a', \n",
    "                \"N\": 'n', \n",
    "                \"V\": 'v', \n",
    "                \"R\": 'r'}\n",
    "    words_and_tags = [(w, tag_dict.get(pos[0], 'n')) for w, pos in sent.tags]    \n",
    "    lemmatized_list = [wd.lemmatize(tag) for wd, tag in words_and_tags]\n",
    "   \n",
    "    return \" \".join(lemmatized_list)\n",
    "    "
   ]
  },
  {
   "cell_type": "markdown",
   "metadata": {},
   "source": [
    "# Creating a new column as \"processed_text\" from cleaning and processing the column \"text\""
   ]
  },
  {
   "cell_type": "code",
   "execution_count": null,
   "metadata": {
    "ExecuteTime": {
     "end_time": "2023-01-02T12:44:47.698473Z",
     "start_time": "2023-01-02T12:44:42.223Z"
    }
   },
   "outputs": [],
   "source": [
    "#Create preocessed text column in dataset:\n",
    "tweet['processed_text'] = None\n",
    "\n",
    "for i in range(len(tweet)):\n",
    "    tweet.processed_text[i] = text_preprocess(tweet.text[i])"
   ]
  },
  {
   "cell_type": "code",
   "execution_count": null,
   "metadata": {
    "ExecuteTime": {
     "end_time": "2023-01-02T12:44:47.699978Z",
     "start_time": "2023-01-02T12:44:42.225Z"
    },
    "scrolled": true
   },
   "outputs": [],
   "source": [
    "#Check for the cleaned dataset:\n",
    "tweet['processed_text'].head()"
   ]
  },
  {
   "cell_type": "markdown",
   "metadata": {
    "ExecuteTime": {
     "end_time": "2022-12-28T08:30:51.949937Z",
     "start_time": "2022-12-28T08:30:51.943573Z"
    }
   },
   "source": [
    "# MIHIR"
   ]
  },
  {
   "cell_type": "markdown",
   "metadata": {},
   "source": [
    "# TO FIND THE MOST OCCURRING WORDS COUNTS"
   ]
  },
  {
   "cell_type": "code",
   "execution_count": null,
   "metadata": {
    "ExecuteTime": {
     "end_time": "2023-01-02T12:44:47.699978Z",
     "start_time": "2023-01-02T12:44:42.228Z"
    }
   },
   "outputs": [],
   "source": [
    "from wordcloud import WordCloud\n",
    "import matplotlib.pyplot as plt"
   ]
  },
  {
   "cell_type": "code",
   "execution_count": null,
   "metadata": {
    "ExecuteTime": {
     "end_time": "2023-01-02T12:44:47.700977Z",
     "start_time": "2023-01-02T12:44:42.231Z"
    }
   },
   "outputs": [],
   "source": [
    "# Polarity ==  negative\n",
    "train_s0 = tweet[tweet.sentiment == 'negative']\n",
    "all_text = ' '.join(word for word in train_s0.processed_text)\n",
    "wordcloud_neg = WordCloud(colormap='Reds', width=1000, height=1000, background_color='white').generate(all_text) #mode='RGBA'\n",
    "plt.figure(figsize=(15,10))\n",
    "plt.title('Negative Sentiment - Wordcloud')\n",
    "plt.imshow(wordcloud_neg, interpolation='bilinear')\n",
    "plt.axis(\"off\")\n",
    "plt.margins(x=0, y=0)\n",
    "plt.show()\n",
    "\n",
    "#wordcloud_neg.to_file('negative_senti_wordcloud.jpg')"
   ]
  },
  {
   "cell_type": "code",
   "execution_count": null,
   "metadata": {
    "ExecuteTime": {
     "end_time": "2023-01-02T12:44:47.701972Z",
     "start_time": "2023-01-02T12:44:42.234Z"
    },
    "scrolled": true
   },
   "outputs": [],
   "source": [
    "# Polarity ==  neutral\n",
    "train_s1 = tweet[tweet.sentiment == 'neutral']\n",
    "all_text = ' '.join(word for word in train_s1.processed_text)\n",
    "wordcloud_neu = WordCloud(width=1000, height=1000, colormap='Blues', background_color='white').generate(all_text)\n",
    "plt.figure( figsize=(15,10))\n",
    "plt.title('Neutral Sentiment - Wordcloud')\n",
    "plt.imshow(wordcloud_neu, interpolation='bilinear')\n",
    "plt.axis(\"off\")\n",
    "plt.margins(x=0, y=0)\n",
    "plt.show()\n",
    "\n",
    "#wordcloud_neu.to_file('neutral_senti_wordcloud.jpg')"
   ]
  },
  {
   "cell_type": "code",
   "execution_count": null,
   "metadata": {
    "ExecuteTime": {
     "end_time": "2023-01-02T12:44:47.702969Z",
     "start_time": "2023-01-02T12:44:42.236Z"
    }
   },
   "outputs": [],
   "source": [
    "# Polarity ==  positive\n",
    "train_s2 = tweet[tweet.sentiment  == 'positive']\n",
    "all_text = ' '.join(word for word in train_s2.processed_text)\n",
    "wordcloud_pos = WordCloud(width=1000, height=1000, colormap='Wistia',background_color='white').generate(all_text)\n",
    "plt.figure(figsize=(15,10))\n",
    "plt.title('Positive Sentiment - Wordcloud')\n",
    "plt.imshow(wordcloud_pos, interpolation='bilinear')\n",
    "plt.axis(\"off\")\n",
    "plt.margins(x=0, y=0)\n",
    "plt.show()\n",
    "\n",
    "#wordcloud_pos.to_file('positive_senti_wordcloud.jpg')"
   ]
  },
  {
   "cell_type": "markdown",
   "metadata": {},
   "source": [
    "### wordcloud for frequently occuring bigrams"
   ]
  },
  {
   "cell_type": "code",
   "execution_count": null,
   "metadata": {
    "ExecuteTime": {
     "end_time": "2023-01-02T12:44:47.704964Z",
     "start_time": "2023-01-02T12:44:42.239Z"
    }
   },
   "outputs": [],
   "source": [
    "# wordcloud for frequently occuring bigrams\n",
    "\n",
    "import nltk\n",
    "from string impor                                                   .stem import WordNetLemmatizer \n",
    "from nltk.tokenize import word_tokenize\n",
    "from nltk.probability import FreqDist\n",
    "from sklearn.feature_extraction.text import CountVectorizer, TfidfTransformer"
   ]
  },
  {
   "cell_type": "code",
   "execution_count": null,
   "metadata": {
    "ExecuteTime": {
     "end_time": "2023-01-02T12:44:47.705962Z",
     "start_time": "2023-01-02T12:44:42.241Z"
    }
   },
   "outputs": [],
   "source": [
    "WNL = nltk.WordNetLemmatizer()"
   ]
  },
  {
   "cell_type": "code",
   "execution_count": null,
   "metadata": {
    "ExecuteTime": {
     "end_time": "2023-01-02T12:44:47.706958Z",
     "start_time": "2023-01-02T12:44:42.244Z"
    }
   },
   "outputs": [],
   "source": [
    "text_content = tweet['processed_text']"
   ]
  },
  {
   "cell_type": "code",
   "execution_count": null,
   "metadata": {
    "ExecuteTime": {
     "end_time": "2023-01-02T12:44:47.707958Z",
     "start_time": "2023-01-02T12:44:42.246Z"
    },
    "scrolled": false
   },
   "outputs": [],
   "source": [
    "# After the punctuation above is removed it still leaves empty entries in the list.\n",
    "text_content = [s for s in text_content if len(s) != 0]\n",
    "\n",
    "# Best to get the lemmas of each word to reduce the number of similar words\n",
    "text_content = [WNL.lemmatize(t) for t in text_content]\n",
    "\n",
    "\n",
    "bigrams_list = list(nltk.bigrams(text_content))\n",
    "#print(bigrams_list)\n",
    "\n",
    "dictionary2 = [' '.join(tup) for tup in bigrams_list]\n",
    "#print (dictionary2)\n",
    "\n",
    "vectorizer = CountVectorizer(ngram_range=(2, 2))\n",
    "bag_of_words = vectorizer.fit_transform(dictionary2)\n",
    "vectorizer.vocabulary_\n",
    "sum_words = bag_of_words.sum(axis=0) \n",
    "words_freq = [(word, sum_words[0, idx]) for word, idx in vectorizer.vocabulary_.items()]\n",
    "words_freq =sorted(words_freq, key = lambda x: x[1], reverse=True)\n",
    "#print (words_freq[:100])\n",
    "words_dict = dict(words_freq)\n",
    "WC_height = 1000\n",
    "WC_width = 1500\n",
    "WC_max_words = 200\n",
    "\n",
    "wordCloud = WordCloud(max_words=WC_max_words, height=WC_height, width=WC_width,stopwords=stopwordsList,background_color='white')\n",
    "\n",
    "wordCloud.generate_from_frequencies(words_dict)\n",
    "\n",
    "plt.figure(figsize=(15,10))\n",
    "plt.title('Most frequently occurring bigrams connected by colour')\n",
    "plt.imshow(wordCloud, interpolation='bilinear')\n",
    "plt.axis(\"off\")\n",
    "plt.show()"
   ]
  },
  {
   "cell_type": "code",
   "execution_count": null,
   "metadata": {
    "ExecuteTime": {
     "end_time": "2023-01-02T12:44:47.708954Z",
     "start_time": "2023-01-02T12:44:42.249Z"
    }
   },
   "outputs": [],
   "source": [
    "# function to collect hashtags\n",
    "def hashtag_extract(x):\n",
    "    hashtags = []\n",
    "    # Loop over the words in the tweet\n",
    "    for i in x:\n",
    "        ht = re.findall(r\"#(\\w+)\", i)\n",
    "        hashtags.append(ht)\n",
    "\n",
    "    return hashtags"
   ]
  },
  {
   "cell_type": "code",
   "execution_count": null,
   "metadata": {
    "ExecuteTime": {
     "end_time": "2023-01-02T12:44:47.709950Z",
     "start_time": "2023-01-02T12:44:42.251Z"
    }
   },
   "outputs": [],
   "source": [
    "# extracting hashtags from positive tweets\n",
    "\n",
    "HT_positive = hashtag_extract(tweet['text'][tweet['sentiment'] == 'positive'])\n",
    "\n",
    "# extracting hashtags from negative tweets\n",
    "HT_negative = hashtag_extract(tweet['text'][tweet['sentiment'] == 'negative'])\n",
    "\n",
    "# extracting hashtags from neutral tweets\n",
    "HT_neutral = hashtag_extract(tweet['text'][tweet['sentiment'] == 'neutral'])\n",
    "\n",
    "\n",
    "# unnesting list\n",
    "HT_positive = sum(HT_positive,[])\n",
    "HT_negative = sum(HT_negative,[])\n",
    "HT_neutral = sum(HT_neutral,[])"
   ]
  },
  {
   "cell_type": "code",
   "execution_count": null,
   "metadata": {
    "ExecuteTime": {
     "end_time": "2023-01-02T12:44:47.709950Z",
     "start_time": "2023-01-02T12:44:42.254Z"
    },
    "scrolled": true
   },
   "outputs": [],
   "source": [
    "# hashtags contributing to tweets\n",
    "\n",
    "b = nltk.FreqDist(HT_negative)\n",
    "e = pd.DataFrame({'Hashtag': list(b.keys()), 'Count': list(b.values())})\n",
    "# selecting top 10 most frequent hashtags\n",
    "e = e.nlargest(columns=\"Count\", n = 10)   \n",
    "plt.figure(figsize=(16,5))\n",
    "plt.title('Hashtags contributing to negative tweets')\n",
    "ax = sns.barplot(data=e, x= \"Hashtag\", y = \"Count\")\n",
    "ax.set(ylabel = 'Count')\n",
    "plt.show()"
   ]
  },
  {
   "cell_type": "code",
   "execution_count": null,
   "metadata": {
    "ExecuteTime": {
     "end_time": "2023-01-02T12:44:47.710949Z",
     "start_time": "2023-01-02T12:44:42.256Z"
    }
   },
   "outputs": [],
   "source": [
    "# hashtags contributing to neutral tweets\n",
    "\n",
    "b = nltk.FreqDist(HT_neutral)\n",
    "e = pd.DataFrame({'Hashtag': list(b.keys()), 'Count': list(b.values())})\n",
    "# selecting top 10 most frequent hashtags\n",
    "e = e.nlargest(columns=\"Count\", n = 10)   \n",
    "plt.figure(figsize=(16,5))\n",
    "plt.title('Hashtags contributing to neutral tweets')\n",
    "ax = sns.barplot(data=e, x= \"Hashtag\", y = \"Count\")\n",
    "ax.set(ylabel = 'Count')\n",
    "plt.show()"
   ]
  },
  {
   "cell_type": "code",
   "execution_count": null,
   "metadata": {
    "ExecuteTime": {
     "end_time": "2023-01-02T12:44:47.711946Z",
     "start_time": "2023-01-02T12:44:42.259Z"
    },
    "scrolled": true
   },
   "outputs": [],
   "source": [
    "# hashtags contributing to postive tweets\n",
    "\n",
    "b = nltk.FreqDist(HT_positive)\n",
    "e = pd.DataFrame({'Hashtag': list(b.keys()), 'Count': list(b.values())})\n",
    "# selecting top 10 most frequent hashtags\n",
    "e = e.nlargest(columns=\"Count\", n = 10)   \n",
    "plt.figure(figsize=(16,5))\n",
    "plt.title('Hashtags contributing to positive tweets')\n",
    "ax = sns.barplot(data=e, x= \"Hashtag\", y = \"Count\")\n",
    "ax.set(ylabel = 'Count')\n",
    "plt.show()"
   ]
  },
  {
   "cell_type": "markdown",
   "metadata": {},
   "source": [
    "# FEATURE ENGINEERING FOR MODEL BUILDING"
   ]
  },
  {
   "cell_type": "code",
   "execution_count": null,
   "metadata": {
    "ExecuteTime": {
     "end_time": "2023-01-02T12:44:47.712942Z",
     "start_time": "2023-01-02T12:44:42.262Z"
    }
   },
   "outputs": [],
   "source": [
    "#Word frequency of text column, irrespective to sentiments:\n",
    "\n",
    "from sklearn.feature_extraction.text import CountVectorizer\n",
    "bow_vectorizer = CountVectorizer(max_df=0.90, min_df=2, max_features=1000, stop_words='english')\n",
    "# bag-of-words feature matrix\n",
    "bow = bow_vectorizer.fit_transform(tweet['processed_text'])\n",
    "\n",
    "top_sum=bow.toarray().sum(axis=0)\n",
    "top_sum_cv=[top_sum]#to let pandas know that these are rows\n",
    "columns_cv = bow_vectorizer.get_feature_names()\n",
    "x_traincvdf = pd.DataFrame(top_sum_cv,columns=columns_cv)\n",
    "\n",
    "\n",
    "import operator\n",
    "dic_irr_sent = {}\n",
    "for i in range(len(top_sum_cv[0])):\n",
    "    dic_irr_sent[columns_cv[i]]=top_sum_cv[0][i]\n",
    "sorted_dic_irr=sorted(dic_irr_sent.items(),reverse=True,key=operator.itemgetter(1))\n",
    "print(sorted_dic_irr[1:])\n"
   ]
  },
  {
   "cell_type": "code",
   "execution_count": null,
   "metadata": {
    "ExecuteTime": {
     "end_time": "2023-01-02T12:44:47.713941Z",
     "start_time": "2023-01-02T12:44:42.264Z"
    }
   },
   "outputs": [],
   "source": [
    "from matplotlib import pyplot as plt\n",
    "\n",
    "sorted_dic_irr = sorted_dic_irr[:15]\n",
    "\n",
    "xs, ys = [*zip(*sorted_dic_irr)]\n",
    "\n",
    "sns.set_style('darkgrid')\n",
    "plt.figure(figsize=(10,8))\n",
    "plt.xticks(rotation = 45)\n",
    "plt.bar(xs, ys)\n",
    "plt.xlabel('Words')\n",
    "plt.ylabel('Frequency')\n",
    "plt.title('Top words - Count Vectorizer')\n",
    "plt.show()\n"
   ]
  },
  {
   "cell_type": "markdown",
   "metadata": {},
   "source": [
    "### Modeling\n",
    "\n",
    "* This models can help new tweets to analyize and classify negative sentiments.\n",
    "* Once model classify sentiments of new text, we can do in-depth keyword-extraction from text\n",
    "* These extracted keywords can solve our business challange of poor train service"
   ]
  },
  {
   "cell_type": "code",
   "execution_count": null,
   "metadata": {
    "ExecuteTime": {
     "end_time": "2023-01-02T12:44:47.713941Z",
     "start_time": "2023-01-02T12:44:42.267Z"
    }
   },
   "outputs": [],
   "source": [
    "#for model-building\n",
    "from sklearn.model_selection import train_test_split\n",
    "from sklearn.linear_model import LogisticRegression\n",
    "from sklearn.naive_bayes import MultinomialNB\n",
    "from sklearn.metrics import classification_report, f1_score, accuracy_score, confusion_matrix\n",
    "from sklearn.metrics import roc_curve, auc, roc_auc_score\n",
    "\n",
    "# bag of words\n",
    "from sklearn.feature_extraction.text import TfidfVectorizer\n",
    "from sklearn.feature_extraction.text import CountVectorizer\n",
    "\n",
    "#for word embedding\n",
    "import gensim\n",
    "from gensim.models import Word2Vec"
   ]
  },
  {
   "cell_type": "markdown",
   "metadata": {},
   "source": [
    "### for classification, selecting sentiments as target: ['negative','neutral']"
   ]
  },
  {
   "cell_type": "code",
   "execution_count": null,
   "metadata": {
    "ExecuteTime": {
     "end_time": "2023-01-02T12:44:47.714939Z",
     "start_time": "2023-01-02T12:44:42.270Z"
    }
   },
   "outputs": [],
   "source": [
    "#for classification, selecting sentiments: ['negative','neutral']\n",
    "test = tweet.loc[tweet['sentiment'].isin(['negative','neutral'])]"
   ]
  },
  {
   "cell_type": "code",
   "execution_count": null,
   "metadata": {
    "ExecuteTime": {
     "end_time": "2023-01-02T12:44:47.715936Z",
     "start_time": "2023-01-02T12:44:42.273Z"
    }
   },
   "outputs": [],
   "source": [
    "test['sentiment'].unique()"
   ]
  },
  {
   "cell_type": "code",
   "execution_count": null,
   "metadata": {
    "ExecuteTime": {
     "end_time": "2023-01-02T12:44:47.716960Z",
     "start_time": "2023-01-02T12:44:42.275Z"
    }
   },
   "outputs": [],
   "source": [
    "    #For binary classification converting text into 1 and 0 \n",
    "    target = {\n",
    "\n",
    "        'negative': 1,\n",
    "        'neutral': 0\n",
    "    }\n",
    "\n",
    "test['target'] = test['sentiment'].apply(lambda x: target[x])"
   ]
  },
  {
   "cell_type": "code",
   "execution_count": null,
   "metadata": {
    "ExecuteTime": {
     "end_time": "2023-01-02T12:44:47.717930Z",
     "start_time": "2023-01-02T12:44:42.278Z"
    }
   },
   "outputs": [],
   "source": [
    "#SPLITTING THE TRAINING DATASET INTO TRAIN AND TEST\n",
    "X_train, X_test, y_train, y_test = train_test_split(test[\"processed_text\"], test[\"target\"],test_size=0.2,shuffle=True)"
   ]
  },
  {
   "cell_type": "code",
   "execution_count": null,
   "metadata": {
    "ExecuteTime": {
     "end_time": "2023-01-02T12:44:47.718173Z",
     "start_time": "2023-01-02T12:44:42.280Z"
    }
   },
   "outputs": [],
   "source": [
    "#Tf-Idf\n",
    "tfidf_vectorizer = TfidfVectorizer(use_idf=True)\n",
    "X_train_vectors_tfidf = tfidf_vectorizer.fit_transform(X_train) \n",
    "X_test_vectors_tfidf = tfidf_vectorizer.transform(X_test)\n",
    "\n",
    "#TRAINING\n",
    "#FITTING THE CLASSIFICATION MODEL using Naive Bayes(tf-idf)\n",
    "nb_tfidf = MultinomialNB()\n",
    "nb_tfidf.fit(X_train_vectors_tfidf, y_train)  \n",
    "\n",
    "#TESTING\n",
    "#Predict y value for test dataset\n",
    "y_predict = nb_tfidf.predict(X_test_vectors_tfidf)\n",
    "y_prob = nb_tfidf.predict_proba(X_test_vectors_tfidf)[:,1]\n"
   ]
  },
  {
   "cell_type": "code",
   "execution_count": null,
   "metadata": {
    "ExecuteTime": {
     "end_time": "2023-01-02T12:44:47.718928Z",
     "start_time": "2023-01-02T12:44:42.283Z"
    },
    "scrolled": false
   },
   "outputs": [],
   "source": [
    "#Check for the score:\n",
    "print(classification_report(y_test,y_predict))"
   ]
  },
  {
   "cell_type": "code",
   "execution_count": null,
   "metadata": {
    "ExecuteTime": {
     "end_time": "2023-01-02T12:44:47.719925Z",
     "start_time": "2023-01-02T12:44:42.285Z"
    }
   },
   "outputs": [],
   "source": [
    "import sklearn.metrics as metrics\n",
    "fpr, tpr, thresholds = roc_curve(y_test, y_prob)"
   ]
  },
  {
   "cell_type": "code",
   "execution_count": null,
   "metadata": {
    "ExecuteTime": {
     "end_time": "2023-01-02T12:44:47.720922Z",
     "start_time": "2023-01-02T12:44:42.288Z"
    }
   },
   "outputs": [],
   "source": [
    "roc_auc = metrics.auc(fpr, tpr)\n",
    "\n",
    "\n",
    "import matplotlib.pyplot as plt\n",
    "plt.title('Receiver Operating Characteristic')\n",
    "plt.plot(fpr, tpr, 'b', label = 'AUC = %0.2f' % roc_auc)\n",
    "plt.legend(loc = 'lower right')\n",
    "plt.plot([0, 1], [0, 1],'r--')\n",
    "plt.xlim([0, 1])\n",
    "plt.ylim([0, 1])\n",
    "plt.ylabel('True Positive Rate')\n",
    "plt.xlabel('False Positive Rate')\n",
    "plt.show()"
   ]
  },
  {
   "cell_type": "code",
   "execution_count": null,
   "metadata": {
    "ExecuteTime": {
     "end_time": "2023-01-02T12:44:47.721918Z",
     "start_time": "2023-01-02T12:44:42.291Z"
    }
   },
   "outputs": [],
   "source": [
    "from sklearn.metrics import confusion_matrix\n",
    "from sklearn.utils.multiclass import unique_labels"
   ]
  },
  {
   "cell_type": "code",
   "execution_count": null,
   "metadata": {
    "ExecuteTime": {
     "end_time": "2023-01-02T12:44:47.721918Z",
     "start_time": "2023-01-02T12:44:42.295Z"
    }
   },
   "outputs": [],
   "source": [
    "unique_labels(y_test)\n",
    "#combine these labels with the confusion metrix\n",
    "def plot(y_true,y_pred):\n",
    "    labels = unique_labels(y_test)\n",
    "    column=[f'Predicted {label}' for label in labels]\n",
    "    indexes=[f'Actual {label}' for label in labels]\n",
    "    table = pd.DataFrame(confusion_matrix(y_true,y_pred), \n",
    "                         columns=column, index=indexes)\n",
    "    \n",
    "    return table\n",
    "\n",
    "def plot2(y_true,y_pred):\n",
    "    sns.set(rc={\"figure.figsize\":(8, 4)})\n",
    "    labels = unique_labels(y_test)\n",
    "    column=[f'Predicted {label}' for label in labels]\n",
    "    indexes=[f'Actual {label}' for label in labels]\n",
    "    table = pd.DataFrame(confusion_matrix(y_true,y_pred), \n",
    "                         columns=column, index=indexes)\n",
    "    \n",
    "    return sns.heatmap(table, annot=True, fmt='d', cmap='viridis')"
   ]
  },
  {
   "cell_type": "code",
   "execution_count": null,
   "metadata": {
    "ExecuteTime": {
     "end_time": "2023-01-02T12:44:47.723928Z",
     "start_time": "2023-01-02T12:44:42.299Z"
    }
   },
   "outputs": [],
   "source": [
    "plot2(y_test, y_predict)"
   ]
  },
  {
   "cell_type": "markdown",
   "metadata": {},
   "source": [
    "### Business KPI\n",
    "\n",
    "As per our dataset and EDA we found that the extracted keyword from tweet:\n",
    "\n",
    "* Delay\n",
    "* thamslink\n",
    "* time\n",
    "* announcement\n",
    "* cancel\n",
    "* update\n",
    "* seat\n",
    "\n",
    "are the frequent in dataset. which helps to business to look into deeper for better service improvement"
   ]
  },
  {
   "cell_type": "markdown",
   "metadata": {},
   "source": [
    "### Keyword Extraction"
   ]
  },
  {
   "cell_type": "code",
   "execution_count": null,
   "metadata": {
    "ExecuteTime": {
     "end_time": "2023-01-02T12:44:47.725909Z",
     "start_time": "2023-01-02T12:44:42.304Z"
    }
   },
   "outputs": [],
   "source": [
    "stopwords_en = set(stopwords.words('english'))\n",
    "\n",
    "\n",
    "def word_check(word, list):\n",
    "    if word in list:\n",
    "        return 1\n",
    "    else:\n",
    "        return 0\n",
    "    \n",
    "def word_cooccurance(word1,word2,candi_kw_lst):\n",
    "    value = 0\n",
    "    for k in range(len(candi_kw_lst)) :\n",
    "        value  = value + check_both(word1,word2,candi_kw_lst[k])\n",
    "    \n",
    "    return value\n",
    "\n",
    "def check_both(word1, word2 , list): \n",
    "    if word1 in list:\n",
    "        if word2 in list:\n",
    "            return 1\n",
    "        else:\n",
    "            return 0\n",
    "    else:\n",
    "        return 0\n",
    "    \n",
    "def word_freq(word,list1):\n",
    "    return list1.count(word)\n",
    "\n",
    "\n",
    "def extract_keywords(text):\n",
    "    \n",
    "    global key_name\n",
    "    \n",
    "    text = text.lower()\n",
    "    \n",
    "    text = clean_tweet(text)\n",
    "\n",
    "    tokenized_sents = word_tokenize(text)\n",
    "    \n",
    "    candi_kw = []\n",
    "    candi_kw_lst = []\n",
    "\n",
    "    for i in tokenized_sents:\n",
    "\n",
    "        if i not in stopwords_en:\n",
    "            candi_kw.append(i)\n",
    "        else:\n",
    "            if len(candi_kw) == 0:\n",
    "                pass \n",
    "            else:\n",
    "                candi_kw_lst.append(candi_kw) \n",
    "                candi_kw = []\n",
    "    candi_kw_lst.append(candi_kw)\n",
    "    \n",
    "    flat_list_keyword = [item for sublist in candi_kw_lst for item in sublist]\n",
    "    flat_unique_keyword = set(flat_list_keyword)\n",
    "\n",
    "    flat_unique_list = [] \n",
    "\n",
    "    # traverse for all elements \n",
    "    for x in flat_list_keyword: \n",
    "        # check if exists in unique_list or not \n",
    "        if x not in flat_unique_list: \n",
    "            flat_unique_list.append(x) \n",
    "            \n",
    "    # initializing cooccurance matrix\n",
    "\n",
    "    matrix_df = pd.DataFrame(0, columns=flat_unique_list, index=flat_unique_list)\n",
    "\n",
    "    \n",
    "    # creating co-occurance matrix\n",
    "\n",
    "    j = 0\n",
    "\n",
    "    for i in range(len(matrix_df)):\n",
    "        for j in range(len(matrix_df.columns)):\n",
    "            if (matrix_df.index[i] == matrix_df.columns[j]):\n",
    "                matrix_df.iloc[i,j] = flat_list_keyword.count(matrix_df.index[j])\n",
    "            else:\n",
    "                value = 0\n",
    "                for k in range(len(candi_kw_lst)) :\n",
    "                    value  = value + check_both(matrix_df.index[i],matrix_df.columns[j],candi_kw_lst[k])\n",
    "                matrix_df.iloc[i,j] = value\n",
    "\n",
    "        # sum row wise and create column for word degree\n",
    "\n",
    "    '''# find degree of word \n",
    "\n",
    "    Word Degree (deg(w)) = word_freq+ # howmany times a word has a interaction with other words\n",
    "\n",
    "    '''\n",
    "\n",
    "    matrix_df['degree'] = matrix_df.sum(axis=1)\n",
    "    \n",
    "    # word_frequency\n",
    "\n",
    "    '''# find frequency of word\n",
    "\n",
    "    Word Frequency (freq(w)) # how many times a particular word appeared among all candidate keywords.\n",
    "\n",
    "    Keyword score = (deg(w)/freq(w))'''\n",
    "\n",
    "    matrix_df['word_frequency'] = None\n",
    "\n",
    "    for i in range(len(matrix_df)):\n",
    "\n",
    "        matrix_df.word_frequency[i] = word_freq(matrix_df.index[i],flat_list_keyword)\n",
    "\n",
    "    \n",
    "        # calculate keyword score\n",
    "\n",
    "    matrix_df['keyword_score'] = None\n",
    "\n",
    "    for i in range(len(matrix_df)):\n",
    "\n",
    "        matrix_df.keyword_score[i] = matrix_df.degree[i] / matrix_df.word_frequency[i]\n",
    "\n",
    "   \n",
    "    #getting keyword_score for each word\n",
    "\n",
    "    matrix_dict = matrix_df.to_dict()['keyword_score']\n",
    "    \n",
    "    #calculate keyword score for candidate keywords\n",
    "    \n",
    "    candi_kw_score = {}\n",
    "\n",
    "    for i in range(len(candi_kw_lst)):\n",
    "        score = 0\n",
    "        for j in range(len(candi_kw_lst[i])):\n",
    "            key_name = str(candi_kw_lst[i])\n",
    "            score = score + matrix_dict[candi_kw_lst[i][j]]\n",
    "        candi_kw_score [key_name] = score\n",
    "\n",
    "\n",
    "    candi_kw_score = {k: v for k, v in sorted(candi_kw_score.items(), key=lambda item: item[1],reverse=True)}\n",
    "    \n",
    "    # extract top 3 scored candidate keywords\n",
    "\n",
    "    n_items = dict(itertools.islice(candi_kw_score.items(), 10)) \n",
    "\n",
    "    final_phrase = []\n",
    "\n",
    "    for x in list(n_items)[0:7]:\n",
    "        final_phrase.append(x)\n",
    "\n",
    "    # removing special characters\n",
    "\n",
    "    removetable = str.maketrans('', '', \"@,#%[]'\")\n",
    "    out_list = [s.translate(removetable) for s in final_phrase]\n",
    "\n",
    "    extracted_keywords = ' '.join(out_list)\n",
    "    \n",
    "    return extracted_keywords"
   ]
  },
  {
   "cell_type": "code",
   "execution_count": null,
   "metadata": {
    "ExecuteTime": {
     "end_time": "2023-01-02T12:44:47.726906Z",
     "start_time": "2023-01-02T12:44:42.307Z"
    }
   },
   "outputs": [],
   "source": [
    "tweet['predicted_text'] = None\n",
    "\n",
    "for i in range(len(tweet)):\n",
    "    tweet.predicted_text[i] = extract_keywords(tweet.text[i])"
   ]
  },
  {
   "cell_type": "code",
   "execution_count": null,
   "metadata": {
    "ExecuteTime": {
     "end_time": "2023-01-02T12:44:47.727903Z",
     "start_time": "2023-01-02T12:44:42.311Z"
    }
   },
   "outputs": [],
   "source": [
    "tweet[['text', 'processed_text', 'predicted_text']].head(10)"
   ]
  },
  {
   "cell_type": "code",
   "execution_count": null,
   "metadata": {},
   "outputs": [],
   "source": []
  }
 ],
 "metadata": {
  "kernelspec": {
   "display_name": "Python 3",
   "language": "python",
   "name": "python3"
  },
  "language_info": {
   "codemirror_mode": {
    "name": "ipython",
    "version": 3
   },
   "file_extension": ".py",
   "mimetype": "text/x-python",
   "name": "python",
   "nbconvert_exporter": "python",
   "pygments_lexer": "ipython3",
   "version": "3.8.8"
  },
  "toc": {
   "base_numbering": 1,
   "nav_menu": {},
   "number_sections": true,
   "sideBar": true,
   "skip_h1_title": false,
   "title_cell": "Table of Contents",
   "title_sidebar": "Contents",
   "toc_cell": false,
   "toc_position": {},
   "toc_section_display": true,
   "toc_window_display": false
  }
 },
 "nbformat": 4,
 "nbformat_minor": 4
}
